{
 "cells": [
  {
   "cell_type": "markdown",
   "metadata": {},
   "source": [
    "https://www.kaggle.com/lodetomasi1995/income-classification"
   ]
  },
  {
   "cell_type": "code",
   "execution_count": 26,
   "metadata": {},
   "outputs": [],
   "source": [
    "import pandas as pd\n",
    "import numpy as np\n",
    "import matplotlib.pyplot as plt\n",
    "from mlxtend.plotting import plot_decision_regions\n",
    "\n",
    "from sklearn.model_selection import cross_val_score\n",
    "import warnings\n",
    "warnings.filterwarnings('ignore')"
   ]
  },
  {
   "cell_type": "code",
   "execution_count": 27,
   "metadata": {},
   "outputs": [],
   "source": [
    "df=pd.read_csv('income_evaluation.csv')"
   ]
  },
  {
   "cell_type": "markdown",
   "metadata": {},
   "source": [
    "# DATA EXPLORATION"
   ]
  },
  {
   "cell_type": "code",
   "execution_count": 28,
   "metadata": {},
   "outputs": [
    {
     "data": {
      "text/plain": [
       "Index(['age', 'workclass', 'fnlwgt', 'education', 'education-num',\n",
       "       'marital-status', 'occupation', 'relationship', 'race', 'sex',\n",
       "       'capital-gain', 'capital-loss', 'hours-per-week', 'native-country',\n",
       "       'income'],\n",
       "      dtype='object')"
      ]
     },
     "execution_count": 28,
     "metadata": {},
     "output_type": "execute_result"
    }
   ],
   "source": [
    "col=df.columns.str.lstrip()#removing the space from the left side of the column name\n",
    "col"
   ]
  },
  {
   "cell_type": "code",
   "execution_count": 29,
   "metadata": {},
   "outputs": [],
   "source": [
    "col1=np.where(col=='marital-status','marital_status',col)\n",
    "col2=np.where(col=='education-num','education_num',col1)\n",
    "col3=np.where(col=='capital-gain','capital_gain',col2)\n",
    "col4=np.where(col=='capital-loss','capital_loss',col3)\n",
    "col5=np.where(col=='hours-per-week','hours_per_week',col4)\n",
    "col6=np.where(col=='native-country','native_country',col5)"
   ]
  },
  {
   "cell_type": "code",
   "execution_count": 30,
   "metadata": {},
   "outputs": [
    {
     "data": {
      "text/plain": [
       "array(['age', 'workclass', 'fnlwgt', 'education', 'education_num',\n",
       "       'marital_status', 'occupation', 'relationship', 'race', 'sex',\n",
       "       'capital_gain', 'capital_loss', 'hours_per_week', 'native_country',\n",
       "       'income'], dtype=object)"
      ]
     },
     "execution_count": 30,
     "metadata": {},
     "output_type": "execute_result"
    }
   ],
   "source": [
    "col6"
   ]
  },
  {
   "cell_type": "code",
   "execution_count": 31,
   "metadata": {},
   "outputs": [],
   "source": [
    "df.columns=col6"
   ]
  },
  {
   "cell_type": "code",
   "execution_count": 32,
   "metadata": {},
   "outputs": [
    {
     "data": {
      "text/html": [
       "<div>\n",
       "<style scoped>\n",
       "    .dataframe tbody tr th:only-of-type {\n",
       "        vertical-align: middle;\n",
       "    }\n",
       "\n",
       "    .dataframe tbody tr th {\n",
       "        vertical-align: top;\n",
       "    }\n",
       "\n",
       "    .dataframe thead th {\n",
       "        text-align: right;\n",
       "    }\n",
       "</style>\n",
       "<table border=\"1\" class=\"dataframe\">\n",
       "  <thead>\n",
       "    <tr style=\"text-align: right;\">\n",
       "      <th></th>\n",
       "      <th>age</th>\n",
       "      <th>workclass</th>\n",
       "      <th>fnlwgt</th>\n",
       "      <th>education</th>\n",
       "      <th>education_num</th>\n",
       "      <th>marital_status</th>\n",
       "      <th>occupation</th>\n",
       "      <th>relationship</th>\n",
       "      <th>race</th>\n",
       "      <th>sex</th>\n",
       "      <th>capital_gain</th>\n",
       "      <th>capital_loss</th>\n",
       "      <th>hours_per_week</th>\n",
       "      <th>native_country</th>\n",
       "      <th>income</th>\n",
       "    </tr>\n",
       "  </thead>\n",
       "  <tbody>\n",
       "    <tr>\n",
       "      <td>0</td>\n",
       "      <td>39</td>\n",
       "      <td>State-gov</td>\n",
       "      <td>77516</td>\n",
       "      <td>Bachelors</td>\n",
       "      <td>13</td>\n",
       "      <td>Never-married</td>\n",
       "      <td>Adm-clerical</td>\n",
       "      <td>Not-in-family</td>\n",
       "      <td>White</td>\n",
       "      <td>Male</td>\n",
       "      <td>2174</td>\n",
       "      <td>0</td>\n",
       "      <td>40</td>\n",
       "      <td>United-States</td>\n",
       "      <td>&lt;=50K</td>\n",
       "    </tr>\n",
       "    <tr>\n",
       "      <td>1</td>\n",
       "      <td>50</td>\n",
       "      <td>Self-emp-not-inc</td>\n",
       "      <td>83311</td>\n",
       "      <td>Bachelors</td>\n",
       "      <td>13</td>\n",
       "      <td>Married-civ-spouse</td>\n",
       "      <td>Exec-managerial</td>\n",
       "      <td>Husband</td>\n",
       "      <td>White</td>\n",
       "      <td>Male</td>\n",
       "      <td>0</td>\n",
       "      <td>0</td>\n",
       "      <td>13</td>\n",
       "      <td>United-States</td>\n",
       "      <td>&lt;=50K</td>\n",
       "    </tr>\n",
       "    <tr>\n",
       "      <td>2</td>\n",
       "      <td>38</td>\n",
       "      <td>Private</td>\n",
       "      <td>215646</td>\n",
       "      <td>HS-grad</td>\n",
       "      <td>9</td>\n",
       "      <td>Divorced</td>\n",
       "      <td>Handlers-cleaners</td>\n",
       "      <td>Not-in-family</td>\n",
       "      <td>White</td>\n",
       "      <td>Male</td>\n",
       "      <td>0</td>\n",
       "      <td>0</td>\n",
       "      <td>40</td>\n",
       "      <td>United-States</td>\n",
       "      <td>&lt;=50K</td>\n",
       "    </tr>\n",
       "    <tr>\n",
       "      <td>3</td>\n",
       "      <td>53</td>\n",
       "      <td>Private</td>\n",
       "      <td>234721</td>\n",
       "      <td>11th</td>\n",
       "      <td>7</td>\n",
       "      <td>Married-civ-spouse</td>\n",
       "      <td>Handlers-cleaners</td>\n",
       "      <td>Husband</td>\n",
       "      <td>Black</td>\n",
       "      <td>Male</td>\n",
       "      <td>0</td>\n",
       "      <td>0</td>\n",
       "      <td>40</td>\n",
       "      <td>United-States</td>\n",
       "      <td>&lt;=50K</td>\n",
       "    </tr>\n",
       "    <tr>\n",
       "      <td>4</td>\n",
       "      <td>28</td>\n",
       "      <td>Private</td>\n",
       "      <td>338409</td>\n",
       "      <td>Bachelors</td>\n",
       "      <td>13</td>\n",
       "      <td>Married-civ-spouse</td>\n",
       "      <td>Prof-specialty</td>\n",
       "      <td>Wife</td>\n",
       "      <td>Black</td>\n",
       "      <td>Female</td>\n",
       "      <td>0</td>\n",
       "      <td>0</td>\n",
       "      <td>40</td>\n",
       "      <td>Cuba</td>\n",
       "      <td>&lt;=50K</td>\n",
       "    </tr>\n",
       "  </tbody>\n",
       "</table>\n",
       "</div>"
      ],
      "text/plain": [
       "   age          workclass  fnlwgt   education  education_num  \\\n",
       "0   39          State-gov   77516   Bachelors             13   \n",
       "1   50   Self-emp-not-inc   83311   Bachelors             13   \n",
       "2   38            Private  215646     HS-grad              9   \n",
       "3   53            Private  234721        11th              7   \n",
       "4   28            Private  338409   Bachelors             13   \n",
       "\n",
       "        marital_status          occupation    relationship    race      sex  \\\n",
       "0        Never-married        Adm-clerical   Not-in-family   White     Male   \n",
       "1   Married-civ-spouse     Exec-managerial         Husband   White     Male   \n",
       "2             Divorced   Handlers-cleaners   Not-in-family   White     Male   \n",
       "3   Married-civ-spouse   Handlers-cleaners         Husband   Black     Male   \n",
       "4   Married-civ-spouse      Prof-specialty            Wife   Black   Female   \n",
       "\n",
       "   capital_gain  capital_loss  hours_per_week  native_country  income  \n",
       "0          2174             0              40   United-States   <=50K  \n",
       "1             0             0              13   United-States   <=50K  \n",
       "2             0             0              40   United-States   <=50K  \n",
       "3             0             0              40   United-States   <=50K  \n",
       "4             0             0              40            Cuba   <=50K  "
      ]
     },
     "execution_count": 32,
     "metadata": {},
     "output_type": "execute_result"
    }
   ],
   "source": [
    "df.head()"
   ]
  },
  {
   "cell_type": "code",
   "execution_count": 33,
   "metadata": {},
   "outputs": [
    {
     "name": "stdout",
     "output_type": "stream",
     "text": [
      "<class 'pandas.core.frame.DataFrame'>\n",
      "RangeIndex: 32561 entries, 0 to 32560\n",
      "Data columns (total 15 columns):\n",
      "age               32561 non-null int64\n",
      "workclass         32561 non-null object\n",
      "fnlwgt            32561 non-null int64\n",
      "education         32561 non-null object\n",
      "education_num     32561 non-null int64\n",
      "marital_status    32561 non-null object\n",
      "occupation        32561 non-null object\n",
      "relationship      32561 non-null object\n",
      "race              32561 non-null object\n",
      "sex               32561 non-null object\n",
      "capital_gain      32561 non-null int64\n",
      "capital_loss      32561 non-null int64\n",
      "hours_per_week    32561 non-null int64\n",
      "native_country    32561 non-null object\n",
      "income            32561 non-null object\n",
      "dtypes: int64(6), object(9)\n",
      "memory usage: 3.7+ MB\n"
     ]
    }
   ],
   "source": [
    "df.info()#checking if null values exists or not"
   ]
  },
  {
   "cell_type": "code",
   "execution_count": 34,
   "metadata": {},
   "outputs": [
    {
     "data": {
      "text/plain": [
       "array([' Adm-clerical', ' Exec-managerial', ' Handlers-cleaners',\n",
       "       ' Prof-specialty', ' Other-service', ' Sales', ' Craft-repair',\n",
       "       ' Transport-moving', ' Farming-fishing', ' Machine-op-inspct',\n",
       "       ' Tech-support', ' ?', ' Protective-serv', ' Armed-Forces',\n",
       "       ' Priv-house-serv'], dtype=object)"
      ]
     },
     "execution_count": 34,
     "metadata": {},
     "output_type": "execute_result"
    }
   ],
   "source": [
    "df['occupation'].unique()#checking for garbage values such as '?'"
   ]
  },
  {
   "cell_type": "code",
   "execution_count": 35,
   "metadata": {},
   "outputs": [],
   "source": [
    "df[df == ' ?'] = np.nan"
   ]
  },
  {
   "cell_type": "code",
   "execution_count": 36,
   "metadata": {},
   "outputs": [
    {
     "data": {
      "text/plain": [
       "array([' Adm-clerical', ' Exec-managerial', ' Handlers-cleaners',\n",
       "       ' Prof-specialty', ' Other-service', ' Sales', ' Craft-repair',\n",
       "       ' Transport-moving', ' Farming-fishing', ' Machine-op-inspct',\n",
       "       ' Tech-support', nan, ' Protective-serv', ' Armed-Forces',\n",
       "       ' Priv-house-serv'], dtype=object)"
      ]
     },
     "execution_count": 36,
     "metadata": {},
     "output_type": "execute_result"
    }
   ],
   "source": [
    "df['occupation'].unique()"
   ]
  },
  {
   "cell_type": "code",
   "execution_count": 37,
   "metadata": {},
   "outputs": [
    {
     "data": {
      "text/html": [
       "<div>\n",
       "<style scoped>\n",
       "    .dataframe tbody tr th:only-of-type {\n",
       "        vertical-align: middle;\n",
       "    }\n",
       "\n",
       "    .dataframe tbody tr th {\n",
       "        vertical-align: top;\n",
       "    }\n",
       "\n",
       "    .dataframe thead th {\n",
       "        text-align: right;\n",
       "    }\n",
       "</style>\n",
       "<table border=\"1\" class=\"dataframe\">\n",
       "  <thead>\n",
       "    <tr style=\"text-align: right;\">\n",
       "      <th></th>\n",
       "      <th>age</th>\n",
       "      <th>workclass</th>\n",
       "      <th>fnlwgt</th>\n",
       "      <th>education</th>\n",
       "      <th>education_num</th>\n",
       "      <th>marital_status</th>\n",
       "      <th>occupation</th>\n",
       "      <th>relationship</th>\n",
       "      <th>race</th>\n",
       "      <th>sex</th>\n",
       "      <th>capital_gain</th>\n",
       "      <th>capital_loss</th>\n",
       "      <th>hours_per_week</th>\n",
       "      <th>native_country</th>\n",
       "      <th>income</th>\n",
       "    </tr>\n",
       "  </thead>\n",
       "  <tbody>\n",
       "    <tr>\n",
       "      <td>27</td>\n",
       "      <td>54</td>\n",
       "      <td>NaN</td>\n",
       "      <td>180211</td>\n",
       "      <td>Some-college</td>\n",
       "      <td>10</td>\n",
       "      <td>Married-civ-spouse</td>\n",
       "      <td>NaN</td>\n",
       "      <td>Husband</td>\n",
       "      <td>Asian-Pac-Islander</td>\n",
       "      <td>Male</td>\n",
       "      <td>0</td>\n",
       "      <td>0</td>\n",
       "      <td>60</td>\n",
       "      <td>South</td>\n",
       "      <td>&gt;50K</td>\n",
       "    </tr>\n",
       "    <tr>\n",
       "      <td>61</td>\n",
       "      <td>32</td>\n",
       "      <td>NaN</td>\n",
       "      <td>293936</td>\n",
       "      <td>7th-8th</td>\n",
       "      <td>4</td>\n",
       "      <td>Married-spouse-absent</td>\n",
       "      <td>NaN</td>\n",
       "      <td>Not-in-family</td>\n",
       "      <td>White</td>\n",
       "      <td>Male</td>\n",
       "      <td>0</td>\n",
       "      <td>0</td>\n",
       "      <td>40</td>\n",
       "      <td>NaN</td>\n",
       "      <td>&lt;=50K</td>\n",
       "    </tr>\n",
       "    <tr>\n",
       "      <td>69</td>\n",
       "      <td>25</td>\n",
       "      <td>NaN</td>\n",
       "      <td>200681</td>\n",
       "      <td>Some-college</td>\n",
       "      <td>10</td>\n",
       "      <td>Never-married</td>\n",
       "      <td>NaN</td>\n",
       "      <td>Own-child</td>\n",
       "      <td>White</td>\n",
       "      <td>Male</td>\n",
       "      <td>0</td>\n",
       "      <td>0</td>\n",
       "      <td>40</td>\n",
       "      <td>United-States</td>\n",
       "      <td>&lt;=50K</td>\n",
       "    </tr>\n",
       "    <tr>\n",
       "      <td>77</td>\n",
       "      <td>67</td>\n",
       "      <td>NaN</td>\n",
       "      <td>212759</td>\n",
       "      <td>10th</td>\n",
       "      <td>6</td>\n",
       "      <td>Married-civ-spouse</td>\n",
       "      <td>NaN</td>\n",
       "      <td>Husband</td>\n",
       "      <td>White</td>\n",
       "      <td>Male</td>\n",
       "      <td>0</td>\n",
       "      <td>0</td>\n",
       "      <td>2</td>\n",
       "      <td>United-States</td>\n",
       "      <td>&lt;=50K</td>\n",
       "    </tr>\n",
       "    <tr>\n",
       "      <td>106</td>\n",
       "      <td>17</td>\n",
       "      <td>NaN</td>\n",
       "      <td>304873</td>\n",
       "      <td>10th</td>\n",
       "      <td>6</td>\n",
       "      <td>Never-married</td>\n",
       "      <td>NaN</td>\n",
       "      <td>Own-child</td>\n",
       "      <td>White</td>\n",
       "      <td>Female</td>\n",
       "      <td>34095</td>\n",
       "      <td>0</td>\n",
       "      <td>32</td>\n",
       "      <td>United-States</td>\n",
       "      <td>&lt;=50K</td>\n",
       "    </tr>\n",
       "    <tr>\n",
       "      <td>...</td>\n",
       "      <td>...</td>\n",
       "      <td>...</td>\n",
       "      <td>...</td>\n",
       "      <td>...</td>\n",
       "      <td>...</td>\n",
       "      <td>...</td>\n",
       "      <td>...</td>\n",
       "      <td>...</td>\n",
       "      <td>...</td>\n",
       "      <td>...</td>\n",
       "      <td>...</td>\n",
       "      <td>...</td>\n",
       "      <td>...</td>\n",
       "      <td>...</td>\n",
       "      <td>...</td>\n",
       "    </tr>\n",
       "    <tr>\n",
       "      <td>32530</td>\n",
       "      <td>35</td>\n",
       "      <td>NaN</td>\n",
       "      <td>320084</td>\n",
       "      <td>Bachelors</td>\n",
       "      <td>13</td>\n",
       "      <td>Married-civ-spouse</td>\n",
       "      <td>NaN</td>\n",
       "      <td>Wife</td>\n",
       "      <td>White</td>\n",
       "      <td>Female</td>\n",
       "      <td>0</td>\n",
       "      <td>0</td>\n",
       "      <td>55</td>\n",
       "      <td>United-States</td>\n",
       "      <td>&gt;50K</td>\n",
       "    </tr>\n",
       "    <tr>\n",
       "      <td>32531</td>\n",
       "      <td>30</td>\n",
       "      <td>NaN</td>\n",
       "      <td>33811</td>\n",
       "      <td>Bachelors</td>\n",
       "      <td>13</td>\n",
       "      <td>Never-married</td>\n",
       "      <td>NaN</td>\n",
       "      <td>Not-in-family</td>\n",
       "      <td>Asian-Pac-Islander</td>\n",
       "      <td>Female</td>\n",
       "      <td>0</td>\n",
       "      <td>0</td>\n",
       "      <td>99</td>\n",
       "      <td>United-States</td>\n",
       "      <td>&lt;=50K</td>\n",
       "    </tr>\n",
       "    <tr>\n",
       "      <td>32539</td>\n",
       "      <td>71</td>\n",
       "      <td>NaN</td>\n",
       "      <td>287372</td>\n",
       "      <td>Doctorate</td>\n",
       "      <td>16</td>\n",
       "      <td>Married-civ-spouse</td>\n",
       "      <td>NaN</td>\n",
       "      <td>Husband</td>\n",
       "      <td>White</td>\n",
       "      <td>Male</td>\n",
       "      <td>0</td>\n",
       "      <td>0</td>\n",
       "      <td>10</td>\n",
       "      <td>United-States</td>\n",
       "      <td>&gt;50K</td>\n",
       "    </tr>\n",
       "    <tr>\n",
       "      <td>32541</td>\n",
       "      <td>41</td>\n",
       "      <td>NaN</td>\n",
       "      <td>202822</td>\n",
       "      <td>HS-grad</td>\n",
       "      <td>9</td>\n",
       "      <td>Separated</td>\n",
       "      <td>NaN</td>\n",
       "      <td>Not-in-family</td>\n",
       "      <td>Black</td>\n",
       "      <td>Female</td>\n",
       "      <td>0</td>\n",
       "      <td>0</td>\n",
       "      <td>32</td>\n",
       "      <td>United-States</td>\n",
       "      <td>&lt;=50K</td>\n",
       "    </tr>\n",
       "    <tr>\n",
       "      <td>32542</td>\n",
       "      <td>72</td>\n",
       "      <td>NaN</td>\n",
       "      <td>129912</td>\n",
       "      <td>HS-grad</td>\n",
       "      <td>9</td>\n",
       "      <td>Married-civ-spouse</td>\n",
       "      <td>NaN</td>\n",
       "      <td>Husband</td>\n",
       "      <td>White</td>\n",
       "      <td>Male</td>\n",
       "      <td>0</td>\n",
       "      <td>0</td>\n",
       "      <td>25</td>\n",
       "      <td>United-States</td>\n",
       "      <td>&lt;=50K</td>\n",
       "    </tr>\n",
       "  </tbody>\n",
       "</table>\n",
       "<p>1836 rows × 15 columns</p>\n",
       "</div>"
      ],
      "text/plain": [
       "       age workclass  fnlwgt      education  education_num  \\\n",
       "27      54       NaN  180211   Some-college             10   \n",
       "61      32       NaN  293936        7th-8th              4   \n",
       "69      25       NaN  200681   Some-college             10   \n",
       "77      67       NaN  212759           10th              6   \n",
       "106     17       NaN  304873           10th              6   \n",
       "...    ...       ...     ...            ...            ...   \n",
       "32530   35       NaN  320084      Bachelors             13   \n",
       "32531   30       NaN   33811      Bachelors             13   \n",
       "32539   71       NaN  287372      Doctorate             16   \n",
       "32541   41       NaN  202822        HS-grad              9   \n",
       "32542   72       NaN  129912        HS-grad              9   \n",
       "\n",
       "               marital_status occupation    relationship                 race  \\\n",
       "27         Married-civ-spouse        NaN         Husband   Asian-Pac-Islander   \n",
       "61      Married-spouse-absent        NaN   Not-in-family                White   \n",
       "69              Never-married        NaN       Own-child                White   \n",
       "77         Married-civ-spouse        NaN         Husband                White   \n",
       "106             Never-married        NaN       Own-child                White   \n",
       "...                       ...        ...             ...                  ...   \n",
       "32530      Married-civ-spouse        NaN            Wife                White   \n",
       "32531           Never-married        NaN   Not-in-family   Asian-Pac-Islander   \n",
       "32539      Married-civ-spouse        NaN         Husband                White   \n",
       "32541               Separated        NaN   Not-in-family                Black   \n",
       "32542      Married-civ-spouse        NaN         Husband                White   \n",
       "\n",
       "           sex  capital_gain  capital_loss  hours_per_week  native_country  \\\n",
       "27        Male             0             0              60           South   \n",
       "61        Male             0             0              40             NaN   \n",
       "69        Male             0             0              40   United-States   \n",
       "77        Male             0             0               2   United-States   \n",
       "106     Female         34095             0              32   United-States   \n",
       "...        ...           ...           ...             ...             ...   \n",
       "32530   Female             0             0              55   United-States   \n",
       "32531   Female             0             0              99   United-States   \n",
       "32539     Male             0             0              10   United-States   \n",
       "32541   Female             0             0              32   United-States   \n",
       "32542     Male             0             0              25   United-States   \n",
       "\n",
       "       income  \n",
       "27       >50K  \n",
       "61      <=50K  \n",
       "69      <=50K  \n",
       "77      <=50K  \n",
       "106     <=50K  \n",
       "...       ...  \n",
       "32530    >50K  \n",
       "32531   <=50K  \n",
       "32539    >50K  \n",
       "32541   <=50K  \n",
       "32542   <=50K  \n",
       "\n",
       "[1836 rows x 15 columns]"
      ]
     },
     "execution_count": 37,
     "metadata": {},
     "output_type": "execute_result"
    }
   ],
   "source": [
    "df[df['workclass'].isnull()]\n",
    "#workclass, occupation, native-country were the columns with null values"
   ]
  },
  {
   "cell_type": "markdown",
   "metadata": {},
   "source": [
    "Upon checking the values we found that features workclass and occupation have same observations with null values and since these are categorical variables, we are going to remove these observations from the dataset"
   ]
  },
  {
   "cell_type": "code",
   "execution_count": 38,
   "metadata": {},
   "outputs": [],
   "source": [
    "df.drop(df[df['workclass'].isnull()].index,axis=0,inplace=True)#deleting 1836 records with null values"
   ]
  },
  {
   "cell_type": "code",
   "execution_count": 39,
   "metadata": {},
   "outputs": [
    {
     "name": "stdout",
     "output_type": "stream",
     "text": [
      "<class 'pandas.core.frame.DataFrame'>\n",
      "Int64Index: 30725 entries, 0 to 32560\n",
      "Data columns (total 15 columns):\n",
      "age               30725 non-null int64\n",
      "workclass         30725 non-null object\n",
      "fnlwgt            30725 non-null int64\n",
      "education         30725 non-null object\n",
      "education_num     30725 non-null int64\n",
      "marital_status    30725 non-null object\n",
      "occupation        30718 non-null object\n",
      "relationship      30725 non-null object\n",
      "race              30725 non-null object\n",
      "sex               30725 non-null object\n",
      "capital_gain      30725 non-null int64\n",
      "capital_loss      30725 non-null int64\n",
      "hours_per_week    30725 non-null int64\n",
      "native_country    30169 non-null object\n",
      "income            30725 non-null object\n",
      "dtypes: int64(6), object(9)\n",
      "memory usage: 3.8+ MB\n"
     ]
    }
   ],
   "source": [
    "df.info()"
   ]
  },
  {
   "cell_type": "markdown",
   "metadata": {},
   "source": [
    "For rest of the null values in features such as occupation and native-country, we can treat those values as others when creating one-hot vectors"
   ]
  },
  {
   "cell_type": "code",
   "execution_count": 40,
   "metadata": {},
   "outputs": [
    {
     "data": {
      "text/plain": [
       " Male      20793\n",
       " Female     9932\n",
       "Name: sex, dtype: int64"
      ]
     },
     "execution_count": 40,
     "metadata": {},
     "output_type": "execute_result"
    }
   ],
   "source": [
    "#converting sex variable in binary form\n",
    "df['sex'].value_counts()"
   ]
  },
  {
   "cell_type": "code",
   "execution_count": 41,
   "metadata": {},
   "outputs": [],
   "source": [
    "df.sex[df.sex == ' Male'] = 1\n",
    "df.sex[df.sex == ' Female'] = 0"
   ]
  },
  {
   "cell_type": "code",
   "execution_count": 42,
   "metadata": {},
   "outputs": [
    {
     "data": {
      "text/plain": [
       " Private             22696\n",
       " Self-emp-not-inc     2541\n",
       " Local-gov            2093\n",
       " State-gov            1298\n",
       " Self-emp-inc         1116\n",
       " Federal-gov           960\n",
       " Without-pay            14\n",
       " Never-worked            7\n",
       "Name: workclass, dtype: int64"
      ]
     },
     "execution_count": 42,
     "metadata": {},
     "output_type": "execute_result"
    }
   ],
   "source": [
    "df['workclass'].value_counts()"
   ]
  },
  {
   "cell_type": "code",
   "execution_count": 43,
   "metadata": {},
   "outputs": [],
   "source": [
    "df.workclass[df.workclass == ' Private'] = 'Private'\n",
    "df.workclass[df.workclass == ' Self-emp-not-inc'] = 'Self_emp'\n",
    "df.workclass[df.workclass == ' Self-emp-inc'] = 'Self_emp'\n",
    "df.workclass[df.workclass == ' Local-gov'] = 'Gov'\n",
    "df.workclass[df.workclass == ' State-gov'] = 'Gov'\n",
    "df.workclass[df.workclass == ' Federal-gov'] = 'Gov'\n",
    "df.workclass[df.workclass == ' Without-pay'] = 'Others'\n",
    "df.workclass[df.workclass == ' Never-worked'] = 'Others'"
   ]
  },
  {
   "cell_type": "code",
   "execution_count": 44,
   "metadata": {},
   "outputs": [],
   "source": [
    "workclass_cols = pd.get_dummies(df['workclass'], prefix='workclass')\n",
    "df[workclass_cols.columns] = workclass_cols\n",
    "df.drop('workclass', axis = 1, inplace =True)"
   ]
  },
  {
   "cell_type": "code",
   "execution_count": 45,
   "metadata": {},
   "outputs": [
    {
     "data": {
      "text/html": [
       "<div>\n",
       "<style scoped>\n",
       "    .dataframe tbody tr th:only-of-type {\n",
       "        vertical-align: middle;\n",
       "    }\n",
       "\n",
       "    .dataframe tbody tr th {\n",
       "        vertical-align: top;\n",
       "    }\n",
       "\n",
       "    .dataframe thead th {\n",
       "        text-align: right;\n",
       "    }\n",
       "</style>\n",
       "<table border=\"1\" class=\"dataframe\">\n",
       "  <thead>\n",
       "    <tr style=\"text-align: right;\">\n",
       "      <th></th>\n",
       "      <th>age</th>\n",
       "      <th>fnlwgt</th>\n",
       "      <th>education</th>\n",
       "      <th>education_num</th>\n",
       "      <th>marital_status</th>\n",
       "      <th>occupation</th>\n",
       "      <th>relationship</th>\n",
       "      <th>race</th>\n",
       "      <th>sex</th>\n",
       "      <th>capital_gain</th>\n",
       "      <th>capital_loss</th>\n",
       "      <th>hours_per_week</th>\n",
       "      <th>native_country</th>\n",
       "      <th>income</th>\n",
       "      <th>workclass_Gov</th>\n",
       "      <th>workclass_Others</th>\n",
       "      <th>workclass_Private</th>\n",
       "      <th>workclass_Self_emp</th>\n",
       "    </tr>\n",
       "  </thead>\n",
       "  <tbody>\n",
       "    <tr>\n",
       "      <td>0</td>\n",
       "      <td>39</td>\n",
       "      <td>77516</td>\n",
       "      <td>Bachelors</td>\n",
       "      <td>13</td>\n",
       "      <td>Never-married</td>\n",
       "      <td>Adm-clerical</td>\n",
       "      <td>Not-in-family</td>\n",
       "      <td>White</td>\n",
       "      <td>1</td>\n",
       "      <td>2174</td>\n",
       "      <td>0</td>\n",
       "      <td>40</td>\n",
       "      <td>United-States</td>\n",
       "      <td>&lt;=50K</td>\n",
       "      <td>1</td>\n",
       "      <td>0</td>\n",
       "      <td>0</td>\n",
       "      <td>0</td>\n",
       "    </tr>\n",
       "    <tr>\n",
       "      <td>1</td>\n",
       "      <td>50</td>\n",
       "      <td>83311</td>\n",
       "      <td>Bachelors</td>\n",
       "      <td>13</td>\n",
       "      <td>Married-civ-spouse</td>\n",
       "      <td>Exec-managerial</td>\n",
       "      <td>Husband</td>\n",
       "      <td>White</td>\n",
       "      <td>1</td>\n",
       "      <td>0</td>\n",
       "      <td>0</td>\n",
       "      <td>13</td>\n",
       "      <td>United-States</td>\n",
       "      <td>&lt;=50K</td>\n",
       "      <td>0</td>\n",
       "      <td>0</td>\n",
       "      <td>0</td>\n",
       "      <td>1</td>\n",
       "    </tr>\n",
       "    <tr>\n",
       "      <td>2</td>\n",
       "      <td>38</td>\n",
       "      <td>215646</td>\n",
       "      <td>HS-grad</td>\n",
       "      <td>9</td>\n",
       "      <td>Divorced</td>\n",
       "      <td>Handlers-cleaners</td>\n",
       "      <td>Not-in-family</td>\n",
       "      <td>White</td>\n",
       "      <td>1</td>\n",
       "      <td>0</td>\n",
       "      <td>0</td>\n",
       "      <td>40</td>\n",
       "      <td>United-States</td>\n",
       "      <td>&lt;=50K</td>\n",
       "      <td>0</td>\n",
       "      <td>0</td>\n",
       "      <td>1</td>\n",
       "      <td>0</td>\n",
       "    </tr>\n",
       "    <tr>\n",
       "      <td>3</td>\n",
       "      <td>53</td>\n",
       "      <td>234721</td>\n",
       "      <td>11th</td>\n",
       "      <td>7</td>\n",
       "      <td>Married-civ-spouse</td>\n",
       "      <td>Handlers-cleaners</td>\n",
       "      <td>Husband</td>\n",
       "      <td>Black</td>\n",
       "      <td>1</td>\n",
       "      <td>0</td>\n",
       "      <td>0</td>\n",
       "      <td>40</td>\n",
       "      <td>United-States</td>\n",
       "      <td>&lt;=50K</td>\n",
       "      <td>0</td>\n",
       "      <td>0</td>\n",
       "      <td>1</td>\n",
       "      <td>0</td>\n",
       "    </tr>\n",
       "    <tr>\n",
       "      <td>4</td>\n",
       "      <td>28</td>\n",
       "      <td>338409</td>\n",
       "      <td>Bachelors</td>\n",
       "      <td>13</td>\n",
       "      <td>Married-civ-spouse</td>\n",
       "      <td>Prof-specialty</td>\n",
       "      <td>Wife</td>\n",
       "      <td>Black</td>\n",
       "      <td>0</td>\n",
       "      <td>0</td>\n",
       "      <td>0</td>\n",
       "      <td>40</td>\n",
       "      <td>Cuba</td>\n",
       "      <td>&lt;=50K</td>\n",
       "      <td>0</td>\n",
       "      <td>0</td>\n",
       "      <td>1</td>\n",
       "      <td>0</td>\n",
       "    </tr>\n",
       "  </tbody>\n",
       "</table>\n",
       "</div>"
      ],
      "text/plain": [
       "   age  fnlwgt   education  education_num       marital_status  \\\n",
       "0   39   77516   Bachelors             13        Never-married   \n",
       "1   50   83311   Bachelors             13   Married-civ-spouse   \n",
       "2   38  215646     HS-grad              9             Divorced   \n",
       "3   53  234721        11th              7   Married-civ-spouse   \n",
       "4   28  338409   Bachelors             13   Married-civ-spouse   \n",
       "\n",
       "           occupation    relationship    race sex  capital_gain  capital_loss  \\\n",
       "0        Adm-clerical   Not-in-family   White   1          2174             0   \n",
       "1     Exec-managerial         Husband   White   1             0             0   \n",
       "2   Handlers-cleaners   Not-in-family   White   1             0             0   \n",
       "3   Handlers-cleaners         Husband   Black   1             0             0   \n",
       "4      Prof-specialty            Wife   Black   0             0             0   \n",
       "\n",
       "   hours_per_week  native_country  income  workclass_Gov  workclass_Others  \\\n",
       "0              40   United-States   <=50K              1                 0   \n",
       "1              13   United-States   <=50K              0                 0   \n",
       "2              40   United-States   <=50K              0                 0   \n",
       "3              40   United-States   <=50K              0                 0   \n",
       "4              40            Cuba   <=50K              0                 0   \n",
       "\n",
       "   workclass_Private  workclass_Self_emp  \n",
       "0                  0                   0  \n",
       "1                  0                   1  \n",
       "2                  1                   0  \n",
       "3                  1                   0  \n",
       "4                  1                   0  "
      ]
     },
     "execution_count": 45,
     "metadata": {},
     "output_type": "execute_result"
    }
   ],
   "source": [
    "df.head()"
   ]
  },
  {
   "cell_type": "code",
   "execution_count": 46,
   "metadata": {},
   "outputs": [
    {
     "data": {
      "text/plain": [
       " HS-grad         9969\n",
       " Some-college    6777\n",
       " Bachelors       5182\n",
       " Masters         1675\n",
       " Assoc-voc       1321\n",
       " 11th            1057\n",
       " Assoc-acdm      1020\n",
       " 10th             833\n",
       " 7th-8th          574\n",
       " Prof-school      558\n",
       " 9th              463\n",
       " Doctorate        398\n",
       " 12th             393\n",
       " 5th-6th          303\n",
       " 1st-4th          156\n",
       " Preschool         46\n",
       "Name: education, dtype: int64"
      ]
     },
     "execution_count": 46,
     "metadata": {},
     "output_type": "execute_result"
    }
   ],
   "source": [
    "df['education'].value_counts()"
   ]
  },
  {
   "cell_type": "code",
   "execution_count": 47,
   "metadata": {},
   "outputs": [],
   "source": [
    "#reducing categories in education by combining them into specific and relevant values\n",
    "df.education[df.education == ' 12th'] = 'HS_NotGrad'\n",
    "df.education[df.education == ' 11th'] = 'HS_NotGrad'\n",
    "df.education[df.education == ' 10th'] = 'HS_NotGrad'\n",
    "df.education[df.education == ' 9th'] = 'HS_NotGrad'\n",
    "df.education[df.education == ' 7th-8th'] = 'Below_HS'\n",
    "df.education[df.education == ' 5th-6th'] = 'Below_HS'\n",
    "df.education[df.education == ' 1st-4th'] = 'Below_HS'\n",
    "df.education[df.education == ' Preschool'] = 'Below_HS'\n",
    "df.education[df.education == ' HS-grad'] = 'HS_grad'\n",
    "df.education[df.education == ' Some-college'] = 'Some_college'\n",
    "df.education[df.education == ' Assoc-voc'] = 'Assoc'\n",
    "df.education[df.education == ' Assoc-acdm'] = 'Assoc'\n",
    "df.education[df.education == ' Prof-school'] = 'Prof_school'\n"
   ]
  },
  {
   "cell_type": "code",
   "execution_count": 48,
   "metadata": {},
   "outputs": [],
   "source": [
    "education_cols = pd.get_dummies(df['education'], prefix='education')\n",
    "df[education_cols.columns] = education_cols\n",
    "df.drop('education', axis = 1, inplace =True)"
   ]
  },
  {
   "cell_type": "code",
   "execution_count": 49,
   "metadata": {},
   "outputs": [
    {
     "data": {
      "text/plain": [
       " Married-civ-spouse       14340\n",
       " Never-married             9917\n",
       " Divorced                  4259\n",
       " Separated                  959\n",
       " Widowed                    840\n",
       " Married-spouse-absent      389\n",
       " Married-AF-spouse           21\n",
       "Name: marital_status, dtype: int64"
      ]
     },
     "execution_count": 49,
     "metadata": {},
     "output_type": "execute_result"
    }
   ],
   "source": [
    "df['marital_status'].value_counts()"
   ]
  },
  {
   "cell_type": "code",
   "execution_count": 50,
   "metadata": {},
   "outputs": [],
   "source": [
    "df.marital_status[df.marital_status == ' Married-civ-spouse'] = 'Married'\n",
    "df.marital_status[df.marital_status == ' Married-spouse-absent'] = 'Married'\n",
    "df.marital_status[df.marital_status == ' Married-AF-spouse'] = 'Married'\n",
    "df.marital_status[df.marital_status == ' Never-married'] = 'Never_married'"
   ]
  },
  {
   "cell_type": "code",
   "execution_count": 51,
   "metadata": {},
   "outputs": [],
   "source": [
    "marital_status_cols = pd.get_dummies(df['marital_status'], prefix='marital_status')\n",
    "df[marital_status_cols.columns] = marital_status_cols\n",
    "df.drop('marital_status', axis = 1, inplace =True)"
   ]
  },
  {
   "cell_type": "code",
   "execution_count": 52,
   "metadata": {},
   "outputs": [
    {
     "data": {
      "text/plain": [
       " Prof-specialty       4140\n",
       " Craft-repair         4099\n",
       " Exec-managerial      4066\n",
       " Adm-clerical         3770\n",
       " Sales                3650\n",
       " Other-service        3295\n",
       " Machine-op-inspct    2002\n",
       " Transport-moving     1597\n",
       " Handlers-cleaners    1370\n",
       " Farming-fishing       994\n",
       " Tech-support          928\n",
       " Protective-serv       649\n",
       " Priv-house-serv       149\n",
       " Armed-Forces            9\n",
       "Name: occupation, dtype: int64"
      ]
     },
     "execution_count": 52,
     "metadata": {},
     "output_type": "execute_result"
    }
   ],
   "source": [
    "df['occupation'].value_counts()"
   ]
  },
  {
   "cell_type": "code",
   "execution_count": 53,
   "metadata": {},
   "outputs": [],
   "source": [
    "df.occupation[df.occupation == ' Handlers-cleaners'] = 'Service'\n",
    "df.occupation[df.occupation == ' Protective-serv'] = 'Service'\n",
    "df.occupation[df.occupation == ' Priv-house-serv'] = 'Service'\n",
    "df.occupation[df.occupation == ' Other-service'] = 'Service'\n",
    "df.occupation[df.occupation == ' Craft-repair'] = 'Service'\n",
    "df.occupation[df.occupation == ' Machine-op-inspct'] = 'Others'\n",
    "df.occupation[df.occupation == ' Prof-specialty'] = 'Prof_specialty'\n",
    "df.occupation[df.occupation == ' Exec-managerial'] = 'Exec_managerial'\n",
    "df.occupation[df.occupation == ' Adm-clerical'] = 'Adm_clerical'\n",
    "df.occupation[df.occupation == ' Sales'] = 'Sales'\n",
    "df.occupation[df.occupation == ' Transport-moving'] = 'Transport_moving'\n",
    "df.occupation[df.occupation == ' Farming-fishing'] = 'Others'\n",
    "df.occupation[df.occupation == ' Tech-support'] = 'Tech_support'\n",
    "df.occupation[df.occupation == ' Armed-Forces'] = 'Others'\n",
    "df.occupation[df.occupation.isnull()] = 'Others'"
   ]
  },
  {
   "cell_type": "code",
   "execution_count": 54,
   "metadata": {},
   "outputs": [],
   "source": [
    "occupation_cols = pd.get_dummies(df['occupation'], prefix='occupation')\n",
    "df[occupation_cols.columns] = occupation_cols\n",
    "df.drop('occupation', axis = 1, inplace =True)"
   ]
  },
  {
   "cell_type": "markdown",
   "metadata": {},
   "source": [
    "Since relationship shows current relationship of a person and it is a sub category of the marital status, we will delete this from the dataset\n"
   ]
  },
  {
   "cell_type": "markdown",
   "metadata": {},
   "source": [
    "Since education_num is the ordinal variable representing each education level, we will delete this variable as we have already created dummy variables for the education variable"
   ]
  },
  {
   "cell_type": "code",
   "execution_count": 55,
   "metadata": {},
   "outputs": [],
   "source": [
    "df.drop('education_num',axis=1,inplace=True)\n",
    "df.drop('relationship',axis=1,inplace=True)"
   ]
  },
  {
   "cell_type": "code",
   "execution_count": 56,
   "metadata": {},
   "outputs": [
    {
     "data": {
      "text/plain": [
       " White                 26306\n",
       " Black                  2911\n",
       " Asian-Pac-Islander      974\n",
       " Amer-Indian-Eskimo      286\n",
       " Other                   248\n",
       "Name: race, dtype: int64"
      ]
     },
     "execution_count": 56,
     "metadata": {},
     "output_type": "execute_result"
    }
   ],
   "source": [
    "df['race'].value_counts()"
   ]
  },
  {
   "cell_type": "code",
   "execution_count": 57,
   "metadata": {},
   "outputs": [],
   "source": [
    "df.race[df.race == ' White'] = 'White'\n",
    "df.race[df.race == ' Black'] = 'Black'\n",
    "df.race[df.race == ' Asian-Pac-Islander'] = 'Others'\n",
    "df.race[df.race == ' Amer-Indian-Eskimo'] = 'Others'\n",
    "df.race[df.race == ' Other'] = 'Others'"
   ]
  },
  {
   "cell_type": "code",
   "execution_count": 58,
   "metadata": {},
   "outputs": [],
   "source": [
    "race_cols = pd.get_dummies(df['race'], prefix='race')\n",
    "df[race_cols.columns] = race_cols\n",
    "df.drop('race', axis = 1, inplace =True)"
   ]
  },
  {
   "cell_type": "code",
   "execution_count": 59,
   "metadata": {},
   "outputs": [],
   "source": [
    "df = df.reset_index(drop=True)"
   ]
  },
  {
   "cell_type": "code",
   "execution_count": 60,
   "metadata": {},
   "outputs": [],
   "source": [
    "for i in range(0,30725):\n",
    "    if df.loc[i,\"native_country\"]==\" United-States\":\n",
    "        df.loc[i,'native_country']='United_States'\n",
    "    else:\n",
    "        df.loc[i,'native_country']='Others'"
   ]
  },
  {
   "cell_type": "code",
   "execution_count": 61,
   "metadata": {},
   "outputs": [
    {
     "data": {
      "text/plain": [
       "United_States    27511\n",
       "Others            3214\n",
       "Name: native_country, dtype: int64"
      ]
     },
     "execution_count": 61,
     "metadata": {},
     "output_type": "execute_result"
    }
   ],
   "source": [
    "df['native_country'].value_counts()"
   ]
  },
  {
   "cell_type": "code",
   "execution_count": 62,
   "metadata": {},
   "outputs": [],
   "source": [
    "native_country_cols = pd.get_dummies(df['native_country'], prefix='native_country')\n",
    "df[native_country_cols.columns] = native_country_cols\n",
    "df.drop('native_country', axis = 1, inplace =True)"
   ]
  },
  {
   "cell_type": "markdown",
   "metadata": {},
   "source": [
    "Changing target column 'Income' to binary where 0 is >50K and 1 is <=50K"
   ]
  },
  {
   "cell_type": "code",
   "execution_count": 63,
   "metadata": {},
   "outputs": [],
   "source": [
    "df.income[df.income == ' >50K'] = 0\n",
    "df.income[df.income == ' <=50K'] = 1"
   ]
  },
  {
   "cell_type": "code",
   "execution_count": 64,
   "metadata": {},
   "outputs": [],
   "source": [
    "df['income']=df['income'].astype('uint8')"
   ]
  },
  {
   "cell_type": "markdown",
   "metadata": {},
   "source": [
    "Below is the final dataset with 38 total features to classify whether the income is above or below 50k"
   ]
  },
  {
   "cell_type": "code",
   "execution_count": 65,
   "metadata": {},
   "outputs": [
    {
     "name": "stdout",
     "output_type": "stream",
     "text": [
      "<class 'pandas.core.frame.DataFrame'>\n",
      "RangeIndex: 30725 entries, 0 to 30724\n",
      "Data columns (total 38 columns):\n",
      "age                             30725 non-null int64\n",
      "fnlwgt                          30725 non-null int64\n",
      "sex                             30725 non-null object\n",
      "capital_gain                    30725 non-null int64\n",
      "capital_loss                    30725 non-null int64\n",
      "hours_per_week                  30725 non-null int64\n",
      "income                          30725 non-null uint8\n",
      "workclass_Gov                   30725 non-null uint8\n",
      "workclass_Others                30725 non-null uint8\n",
      "workclass_Private               30725 non-null uint8\n",
      "workclass_Self_emp              30725 non-null uint8\n",
      "education_ Bachelors            30725 non-null uint8\n",
      "education_ Doctorate            30725 non-null uint8\n",
      "education_ Masters              30725 non-null uint8\n",
      "education_Assoc                 30725 non-null uint8\n",
      "education_Below_HS              30725 non-null uint8\n",
      "education_HS_NotGrad            30725 non-null uint8\n",
      "education_HS_grad               30725 non-null uint8\n",
      "education_Prof_school           30725 non-null uint8\n",
      "education_Some_college          30725 non-null uint8\n",
      "marital_status_ Divorced        30725 non-null uint8\n",
      "marital_status_ Separated       30725 non-null uint8\n",
      "marital_status_ Widowed         30725 non-null uint8\n",
      "marital_status_Married          30725 non-null uint8\n",
      "marital_status_Never_married    30725 non-null uint8\n",
      "occupation_Adm_clerical         30725 non-null uint8\n",
      "occupation_Exec_managerial      30725 non-null uint8\n",
      "occupation_Others               30725 non-null uint8\n",
      "occupation_Prof_specialty       30725 non-null uint8\n",
      "occupation_Sales                30725 non-null uint8\n",
      "occupation_Service              30725 non-null uint8\n",
      "occupation_Tech_support         30725 non-null uint8\n",
      "occupation_Transport_moving     30725 non-null uint8\n",
      "race_Black                      30725 non-null uint8\n",
      "race_Others                     30725 non-null uint8\n",
      "race_White                      30725 non-null uint8\n",
      "native_country_Others           30725 non-null uint8\n",
      "native_country_United_States    30725 non-null uint8\n",
      "dtypes: int64(5), object(1), uint8(32)\n",
      "memory usage: 2.3+ MB\n"
     ]
    }
   ],
   "source": [
    "\n",
    "df.info()"
   ]
  },
  {
   "cell_type": "markdown",
   "metadata": {},
   "source": [
    "# DATA PRE-PROCESSING FOR ML"
   ]
  },
  {
   "cell_type": "markdown",
   "metadata": {},
   "source": [
    "The dataset is a classification dataset and we don't need to maintain the normal distribution, hence we will be using MinMaxScaler() for the dataset"
   ]
  },
  {
   "cell_type": "code",
   "execution_count": 66,
   "metadata": {},
   "outputs": [],
   "source": [
    "X = df.drop('income', axis = 1)\n",
    "y = df['income']"
   ]
  },
  {
   "cell_type": "code",
   "execution_count": 67,
   "metadata": {},
   "outputs": [],
   "source": [
    "# split into train and test\n",
    "from sklearn.model_selection import train_test_split\n",
    "X_train_org, X_test_org, y_train, y_test = train_test_split(X, y, random_state = 0)\n",
    "\n",
    "from sklearn.preprocessing import MinMaxScaler\n",
    "scaler = MinMaxScaler()\n",
    "scaler.fit(X_train_org)\n",
    "X_train = scaler.transform(X_train_org)\n",
    "X_test = scaler.transform(X_test_org)"
   ]
  },
  {
   "cell_type": "code",
   "execution_count": 68,
   "metadata": {},
   "outputs": [
    {
     "data": {
      "text/plain": [
       "array([[0.49315068, 0.08484565, 1.        , ..., 1.        , 0.        ,\n",
       "        1.        ],\n",
       "       [0.4109589 , 0.10298303, 0.        , ..., 1.        , 0.        ,\n",
       "        1.        ],\n",
       "       [0.36986301, 0.05498201, 1.        , ..., 1.        , 0.        ,\n",
       "        1.        ],\n",
       "       ...,\n",
       "       [0.65753425, 0.10308516, 1.        , ..., 1.        , 0.        ,\n",
       "        1.        ],\n",
       "       [0.23287671, 0.15951399, 1.        , ..., 1.        , 0.        ,\n",
       "        1.        ],\n",
       "       [0.21917808, 0.09560538, 1.        , ..., 1.        , 0.        ,\n",
       "        1.        ]])"
      ]
     },
     "execution_count": 68,
     "metadata": {},
     "output_type": "execute_result"
    }
   ],
   "source": [
    "X_train"
   ]
  },
  {
   "cell_type": "code",
   "execution_count": 69,
   "metadata": {},
   "outputs": [
    {
     "data": {
      "text/plain": [
       "array([[0.30136986, 0.03011304, 0.        , ..., 1.        , 0.        ,\n",
       "        1.        ],\n",
       "       [0.26027397, 0.1668428 , 0.        , ..., 0.        , 0.        ,\n",
       "        1.        ],\n",
       "       [0.09589041, 0.06988311, 1.        , ..., 1.        , 0.        ,\n",
       "        1.        ],\n",
       "       ...,\n",
       "       [0.43835616, 0.13054582, 1.        , ..., 1.        , 0.        ,\n",
       "        1.        ],\n",
       "       [0.15068493, 0.08673502, 0.        , ..., 1.        , 0.        ,\n",
       "        1.        ],\n",
       "       [0.21917808, 0.13902099, 1.        , ..., 1.        , 0.        ,\n",
       "        1.        ]])"
      ]
     },
     "execution_count": 69,
     "metadata": {},
     "output_type": "execute_result"
    }
   ],
   "source": [
    "X_test"
   ]
  },
  {
   "cell_type": "code",
   "execution_count": 45,
   "metadata": {},
   "outputs": [],
   "source": [
    "from sklearn.tree import DecisionTreeClassifier\n",
    "from sklearn.svm import LinearSVC\n",
    "from sklearn.svm import SVC\n",
    "from sklearn.neighbors import KNeighborsClassifier\n",
    "from sklearn.ensemble import VotingClassifier"
   ]
  },
  {
   "cell_type": "markdown",
   "metadata": {},
   "source": [
    "# Hard Voting"
   ]
  },
  {
   "cell_type": "code",
   "execution_count": 83,
   "metadata": {},
   "outputs": [
    {
     "name": "stdout",
     "output_type": "stream",
     "text": [
      "KNeighborsClassifier 0.8305128872689403\n",
      "SVC 0.8462639937516272\n",
      "DecisionTreeClassifier 0.8539442853423588\n",
      "VotingClassifier 0.8513407966675345\n"
     ]
    }
   ],
   "source": [
    "knn_clf = KNeighborsClassifier(25)\n",
    "knn_clf.fit(X_train, y_train)\n",
    "svc_clf = SVC(kernel='rbf',C=100,gamma=0.01, probability = True)\n",
    "svm_clf.fit(X_train, y_train)\n",
    "dtree_clf = DecisionTreeClassifier(max_depth=8)\n",
    "dtree_clf.fit(X_train, y_train)\n",
    "\n",
    "voting_clf = VotingClassifier(estimators=[('knn', knn_clf), ('lsvc', svc_clf),('dtree',dtree_clf)], voting='hard')\n",
    "voting_clf.fit(X_train, y_train)\n",
    "\n",
    "from sklearn.metrics import accuracy_score\n",
    "for clf in (knn_clf, svc_clf,dtree_clf, voting_clf):\n",
    "    clf.fit(X_train, y_train)\n",
    "    y_pred = clf.predict(X_test)\n",
    "    print(clf.__class__.__name__, accuracy_score(y_test, y_pred))\n"
   ]
  },
  {
   "cell_type": "markdown",
   "metadata": {},
   "source": [
    "Hard voting classifier basically predicts the class based on the majority one. From the above results we can conclude that voting classifier is performing almost same as the best model which is Decision Tree having accuracy slightly lower than decision tree"
   ]
  },
  {
   "cell_type": "markdown",
   "metadata": {},
   "source": [
    "# Soft Voting"
   ]
  },
  {
   "cell_type": "code",
   "execution_count": 211,
   "metadata": {},
   "outputs": [
    {
     "name": "stdout",
     "output_type": "stream",
     "text": [
      "KNeighborsClassifier 0.8305128872689403\n",
      "SVC 0.8462639937516272\n",
      "DecisionTreeClassifier 0.8539442853423588\n",
      "VotingClassifier 0.8544649830773237\n"
     ]
    }
   ],
   "source": [
    "knn_clf = KNeighborsClassifier(25)\n",
    "knn_clf.fit(X_train, y_train)\n",
    "svc_clf = SVC(kernel='rbf',C=100,gamma=0.01, probability = True)\n",
    "svc_clf.fit(X_train, y_train)\n",
    "dtree_clf = DecisionTreeClassifier(max_depth=8)\n",
    "dtree_clf.fit(X_train, y_train)\n",
    "\n",
    "voting_clf = VotingClassifier(estimators=[('knn', knn_clf),('svc',svc_clf), ('dtree',dtree_clf)], voting='soft')\n",
    "voting_clf.fit(X_train, y_train)\n",
    "\n",
    "from sklearn.metrics import accuracy_score\n",
    "for clf in (knn_clf, svc_clf,dtree_clf, voting_clf):\n",
    "    clf.fit(X_train, y_train)\n",
    "    y_pred = clf.predict(X_test)\n",
    "    print(clf.__class__.__name__, accuracy_score(y_test, y_pred))\n"
   ]
  },
  {
   "cell_type": "markdown",
   "metadata": {},
   "source": [
    "Soft voting takes the average of all the classifiers and predicts the class with highest probability. From the above results we can conclude that soft voting classifier performs better than all the predictors and hence we can say that soft voting performs better than hard voting for our dataset  "
   ]
  },
  {
   "cell_type": "markdown",
   "metadata": {},
   "source": [
    "# Bagging"
   ]
  },
  {
   "cell_type": "markdown",
   "metadata": {},
   "source": [
    "### Decision Tree"
   ]
  },
  {
   "cell_type": "code",
   "execution_count": 220,
   "metadata": {},
   "outputs": [
    {
     "name": "stdout",
     "output_type": "stream",
     "text": [
      "0.8393647487633429\n"
     ]
    }
   ],
   "source": [
    "from sklearn.ensemble import BaggingClassifier\n",
    "\n",
    "dtree = DecisionTreeClassifier(max_depth=4)\n",
    "bag_dtree = BaggingClassifier(dtree, n_estimators=500, max_samples=100, bootstrap=True,oob_score=True, \n",
    "                              n_jobs=-1,random_state=0)\n",
    "\n",
    "bag_dtree.fit(X_train, y_train)\n",
    "y_pred = bag_dtree.predict(X_test)\n",
    "from  sklearn.metrics import accuracy_score\n",
    "print(accuracy_score(y_test, y_pred))"
   ]
  },
  {
   "cell_type": "code",
   "execution_count": 222,
   "metadata": {},
   "outputs": [
    {
     "name": "stdout",
     "output_type": "stream",
     "text": [
      "Train score: 0.8400\n",
      "Test score: 0.8394\n"
     ]
    }
   ],
   "source": [
    "bag_dtree.fit(X_train, y_train)\n",
    "print('Train score: {:.4f}'.format(bag_dtree.score(X_train, y_train)))\n",
    "print('Test score: {:.4f}'.format(bag_dtree.score(X_test, y_test)))"
   ]
  },
  {
   "cell_type": "markdown",
   "metadata": {},
   "source": [
    "Bagging classifier basically performs sampling with replacement and aggregates all the samples in the end. From the above train and test scores, the classifier has predicted well and when compared to our previous model of decision trees it is performing well at max depth of 4, although the scores have decreased than our original decision tree model."
   ]
  },
  {
   "cell_type": "code",
   "execution_count": 223,
   "metadata": {},
   "outputs": [
    {
     "name": "stdout",
     "output_type": "stream",
     "text": [
      "oob score: 0.8390\n"
     ]
    }
   ],
   "source": [
    "print('oob score: {:.4f}'.format(bag_dtree.oob_score_))"
   ]
  },
  {
   "cell_type": "markdown",
   "metadata": {},
   "source": [
    "Oob score is basically used to evaluate the objects which are not included in the sample as bagging classifier usually samples around 63% of the training set and rest of the instances are called out-of-bag objects. So, oob score of 0.83 indicates that the bagging classifier will achieve about 83.9% of the accuracy and as we can see in our accuracy above it has indeed achieved around 83.9% of accuracy "
   ]
  },
  {
   "cell_type": "markdown",
   "metadata": {},
   "source": [
    "### Linear SVC"
   ]
  },
  {
   "cell_type": "code",
   "execution_count": 91,
   "metadata": {},
   "outputs": [
    {
     "name": "stdout",
     "output_type": "stream",
     "text": [
      "0.8439208539442853\n"
     ]
    }
   ],
   "source": [
    "lsvc = LinearSVC(C = 10)\n",
    "bag_lsvc = BaggingClassifier(lsvc, n_estimators=500, max_samples=100, bootstrap=True,oob_score=True, n_jobs=-1,random_state=0)\n",
    "\n",
    "bag_lsvc.fit(X_train, y_train)\n",
    "y_pred = bag_lsvc.predict(X_test)\n",
    "from  sklearn.metrics import accuracy_score\n",
    "print(accuracy_score(y_test, y_pred))"
   ]
  },
  {
   "cell_type": "code",
   "execution_count": 92,
   "metadata": {},
   "outputs": [
    {
     "name": "stdout",
     "output_type": "stream",
     "text": [
      "Train score: 0.8445\n",
      "Test score: 0.8439\n"
     ]
    }
   ],
   "source": [
    "bag_lsvc.fit(X_train, y_train)\n",
    "print('Train score: {:.4f}'.format(bag_lsvc.score(X_train, y_train)))\n",
    "print('Test score: {:.4f}'.format(bag_lsvc.score(X_test, y_test)))"
   ]
  },
  {
   "cell_type": "markdown",
   "metadata": {},
   "source": [
    "Bagging classifier for linear svc model seems to perform better than our original model with slightly higher training score than the original linear svc model"
   ]
  },
  {
   "cell_type": "code",
   "execution_count": 94,
   "metadata": {},
   "outputs": [
    {
     "name": "stdout",
     "output_type": "stream",
     "text": [
      "oob score: 0.8445\n"
     ]
    }
   ],
   "source": [
    "print('oob score: {:.4f}'.format(bag_lsvc.oob_score_))"
   ]
  },
  {
   "cell_type": "markdown",
   "metadata": {},
   "source": [
    "# Pasting"
   ]
  },
  {
   "cell_type": "markdown",
   "metadata": {},
   "source": [
    "### Decision Tree"
   ]
  },
  {
   "cell_type": "code",
   "execution_count": 226,
   "metadata": {},
   "outputs": [
    {
     "name": "stdout",
     "output_type": "stream",
     "text": [
      "0.8394949231970841\n"
     ]
    }
   ],
   "source": [
    "dtree = DecisionTreeClassifier(max_depth=4)\n",
    "paste_dtree = BaggingClassifier(dtree, n_estimators=500, max_samples=100, bootstrap=False, n_jobs=-1,random_state=0)\n",
    "\n",
    "paste_dtree.fit(X_train, y_train)\n",
    "y_pred = paste_dtree.predict(X_test)\n",
    "from  sklearn.metrics import accuracy_score\n",
    "print(accuracy_score(y_test, y_pred))"
   ]
  },
  {
   "cell_type": "code",
   "execution_count": 227,
   "metadata": {},
   "outputs": [
    {
     "name": "stdout",
     "output_type": "stream",
     "text": [
      "Train score: 0.8402\n",
      "Test score: 0.8395\n"
     ]
    }
   ],
   "source": [
    "paste_dtree.fit(X_train, y_train)\n",
    "print('Train score: {:.4f}'.format(paste_dtree.score(X_train, y_train)))\n",
    "print('Test score: {:.4f}'.format(paste_dtree.score(X_test, y_test)))"
   ]
  },
  {
   "cell_type": "markdown",
   "metadata": {},
   "source": [
    "Pasting is a technique which basically samples the training set without replacement and the aggregates. Pasting on decision tree seems to provide decent results at depth equal to 4 with scores slightly lower than the original decision tree"
   ]
  },
  {
   "cell_type": "markdown",
   "metadata": {},
   "source": [
    "### Linear SVC"
   ]
  },
  {
   "cell_type": "code",
   "execution_count": 87,
   "metadata": {},
   "outputs": [
    {
     "name": "stdout",
     "output_type": "stream",
     "text": [
      "0.8439208539442853\n"
     ]
    }
   ],
   "source": [
    "lsvc = LinearSVC(C = 10)\n",
    "paste_lsvc = BaggingClassifier(lsvc, n_estimators=500, max_samples=100, bootstrap=False, n_jobs=-1,random_state=0)\n",
    "\n",
    "paste_lsvc.fit(X_train, y_train)\n",
    "y_pred = paste_lsvc.predict(X_test)\n",
    "from  sklearn.metrics import accuracy_score\n",
    "print(accuracy_score(y_test, y_pred))"
   ]
  },
  {
   "cell_type": "code",
   "execution_count": 88,
   "metadata": {},
   "outputs": [
    {
     "name": "stdout",
     "output_type": "stream",
     "text": [
      "Train score: 0.8445\n",
      "Test score: 0.8439\n"
     ]
    }
   ],
   "source": [
    "paste_lsvc.fit(X_train, y_train)\n",
    "print('Train score: {:.4f}'.format(paste_lsvc.score(X_train, y_train)))\n",
    "print('Test score: {:.4f}'.format(paste_lsvc.score(X_test, y_test)))"
   ]
  },
  {
   "cell_type": "markdown",
   "metadata": {},
   "source": [
    "Bagging and pasting provides the same scores at C=10 for linear SVC"
   ]
  },
  {
   "cell_type": "markdown",
   "metadata": {},
   "source": [
    "# AdaBoosting"
   ]
  },
  {
   "cell_type": "markdown",
   "metadata": {},
   "source": [
    "### Decision Tree"
   ]
  },
  {
   "cell_type": "code",
   "execution_count": 113,
   "metadata": {},
   "outputs": [
    {
     "data": {
      "text/plain": [
       "AdaBoostClassifier(algorithm='SAMME.R',\n",
       "                   base_estimator=DecisionTreeClassifier(class_weight=None,\n",
       "                                                         criterion='gini',\n",
       "                                                         max_depth=8,\n",
       "                                                         max_features=None,\n",
       "                                                         max_leaf_nodes=None,\n",
       "                                                         min_impurity_decrease=0.0,\n",
       "                                                         min_impurity_split=None,\n",
       "                                                         min_samples_leaf=1,\n",
       "                                                         min_samples_split=2,\n",
       "                                                         min_weight_fraction_leaf=0.0,\n",
       "                                                         presort=False,\n",
       "                                                         random_state=None,\n",
       "                                                         splitter='best'),\n",
       "                   learning_rate=0.001, n_estimators=200, random_state=0)"
      ]
     },
     "execution_count": 113,
     "metadata": {},
     "output_type": "execute_result"
    }
   ],
   "source": [
    "from sklearn.ensemble import AdaBoostClassifier\n",
    "\n",
    "ada_clf = AdaBoostClassifier(DecisionTreeClassifier(max_depth=8),\n",
    "                             n_estimators=200, algorithm=\"SAMME.R\", learning_rate=0.001, random_state=0)\n",
    "ada_clf.fit(X_train, y_train)"
   ]
  },
  {
   "cell_type": "code",
   "execution_count": 114,
   "metadata": {},
   "outputs": [
    {
     "name": "stdout",
     "output_type": "stream",
     "text": [
      "Train score: 0.8724\n",
      "Test score: 0.8507\n"
     ]
    }
   ],
   "source": [
    "print('Train score: {:.4f}'.format(ada_clf.score(X_train, y_train)))\n",
    "print('Test score: {:.4f}'.format(ada_clf.score(X_test, y_test)))"
   ]
  },
  {
   "cell_type": "markdown",
   "metadata": {},
   "source": [
    "Adaboosting is a technique which learns on the misclassified data points, gradually becoming a strong learner. In the above model, we have applied adaboosting technique on our original model with learning rate of 0.001 and predicted the new boosted score and as we can see, the training score has slightly improved than the original score which was 0.8559. This is because a smaller learning rate allows for very small change in the weight of the misclassified data point, hence not boosting the score too much"
   ]
  },
  {
   "cell_type": "code",
   "execution_count": 117,
   "metadata": {},
   "outputs": [
    {
     "data": {
      "text/plain": [
       "AdaBoostClassifier(algorithm='SAMME.R',\n",
       "                   base_estimator=DecisionTreeClassifier(class_weight=None,\n",
       "                                                         criterion='gini',\n",
       "                                                         max_depth=8,\n",
       "                                                         max_features=None,\n",
       "                                                         max_leaf_nodes=None,\n",
       "                                                         min_impurity_decrease=0.0,\n",
       "                                                         min_impurity_split=None,\n",
       "                                                         min_samples_leaf=1,\n",
       "                                                         min_samples_split=2,\n",
       "                                                         min_weight_fraction_leaf=0.0,\n",
       "                                                         presort=False,\n",
       "                                                         random_state=None,\n",
       "                                                         splitter='best'),\n",
       "                   learning_rate=0.5, n_estimators=200, random_state=0)"
      ]
     },
     "execution_count": 117,
     "metadata": {},
     "output_type": "execute_result"
    }
   ],
   "source": [
    "from sklearn.ensemble import AdaBoostClassifier\n",
    "\n",
    "ada_clf = AdaBoostClassifier(DecisionTreeClassifier(max_depth=8),\n",
    "                             n_estimators=200, algorithm=\"SAMME.R\", learning_rate=0.5, random_state=0)\n",
    "ada_clf.fit(X_train, y_train)"
   ]
  },
  {
   "cell_type": "code",
   "execution_count": 119,
   "metadata": {},
   "outputs": [
    {
     "name": "stdout",
     "output_type": "stream",
     "text": [
      "Train score: 0.9999\n",
      "Test score: 0.8330\n"
     ]
    }
   ],
   "source": [
    "print('Train score: {:.4f}'.format(ada_clf.score(X_train, y_train)))\n",
    "print('Test score: {:.4f}'.format(ada_clf.score(X_test, y_test)))"
   ]
  },
  {
   "cell_type": "markdown",
   "metadata": {},
   "source": [
    "Here we have used learning rate of 0.5 allowing the weight of the misclassified data point to increase in the next classifier by half of what it was in the previous classifier. This boosted the training score tremendously making the training set to overfit the data "
   ]
  },
  {
   "cell_type": "markdown",
   "metadata": {},
   "source": [
    "### Linear SVC"
   ]
  },
  {
   "cell_type": "code",
   "execution_count": 60,
   "metadata": {},
   "outputs": [
    {
     "data": {
      "text/plain": [
       "AdaBoostClassifier(algorithm='SAMME',\n",
       "                   base_estimator=LinearSVC(C=10, class_weight=None, dual=True,\n",
       "                                            fit_intercept=True,\n",
       "                                            intercept_scaling=1,\n",
       "                                            loss='squared_hinge', max_iter=1000,\n",
       "                                            multi_class='ovr', penalty='l2',\n",
       "                                            random_state=None, tol=0.0001,\n",
       "                                            verbose=0),\n",
       "                   learning_rate=0.8, n_estimators=100, random_state=0)"
      ]
     },
     "execution_count": 60,
     "metadata": {},
     "output_type": "execute_result"
    }
   ],
   "source": [
    "from sklearn.ensemble import AdaBoostClassifier\n",
    "\n",
    "ada_clf = AdaBoostClassifier(LinearSVC(C=10),\n",
    "                             n_estimators=100, algorithm=\"SAMME\", learning_rate=0.8,random_state=0)\n",
    "ada_clf.fit(X_train, y_train) "
   ]
  },
  {
   "cell_type": "code",
   "execution_count": 61,
   "metadata": {},
   "outputs": [
    {
     "name": "stdout",
     "output_type": "stream",
     "text": [
      "Train score: 0.8444\n",
      "Test score: 0.8437\n"
     ]
    }
   ],
   "source": [
    "print('Train score: {:.4f}'.format(ada_clf.score(X_train, y_train)))\n",
    "print('Test score: {:.4f}'.format(ada_clf.score(X_test, y_test)))"
   ]
  },
  {
   "cell_type": "code",
   "execution_count": 56,
   "metadata": {},
   "outputs": [
    {
     "data": {
      "text/plain": [
       "AdaBoostClassifier(algorithm='SAMME',\n",
       "                   base_estimator=LinearSVC(C=10, class_weight=None, dual=True,\n",
       "                                            fit_intercept=True,\n",
       "                                            intercept_scaling=1,\n",
       "                                            loss='squared_hinge', max_iter=1000,\n",
       "                                            multi_class='ovr', penalty='l2',\n",
       "                                            random_state=None, tol=0.0001,\n",
       "                                            verbose=0),\n",
       "                   learning_rate=0.2, n_estimators=100, random_state=0)"
      ]
     },
     "execution_count": 56,
     "metadata": {},
     "output_type": "execute_result"
    }
   ],
   "source": [
    "from sklearn.ensemble import AdaBoostClassifier\n",
    "\n",
    "ada_clf = AdaBoostClassifier(LinearSVC(C=10),\n",
    "                             n_estimators=100, algorithm=\"SAMME\", learning_rate=0.2,random_state=0)\n",
    "ada_clf.fit(X_train, y_train) "
   ]
  },
  {
   "cell_type": "code",
   "execution_count": 57,
   "metadata": {},
   "outputs": [
    {
     "name": "stdout",
     "output_type": "stream",
     "text": [
      "Train score: 0.8446\n",
      "Test score: 0.8439\n"
     ]
    }
   ],
   "source": [
    "print('Train score: {:.4f}'.format(ada_clf.score(X_train, y_train)))\n",
    "print('Test score: {:.4f}'.format(ada_clf.score(X_test, y_test)))"
   ]
  },
  {
   "cell_type": "markdown",
   "metadata": {},
   "source": [
    "Since it does not calculate probability we have taken algorithm as SAMME."
   ]
  },
  {
   "cell_type": "markdown",
   "metadata": {},
   "source": [
    "We have taken two learning rates for linear svc model which are 0.2 and 0.8 respectively and as we can see from the results adaboost slightly boosts both the models as original training score was around 0.8421, however the change is not much and even with change in learning rates from 0.2 to 0.8, there isn't much change observed in the model."
   ]
  },
  {
   "cell_type": "markdown",
   "metadata": {},
   "source": [
    "# Gradient Boosting"
   ]
  },
  {
   "cell_type": "code",
   "execution_count": 63,
   "metadata": {},
   "outputs": [
    {
     "name": "stdout",
     "output_type": "stream",
     "text": [
      "Accuracy on training set: 0.809\n",
      "Accuracy on test set: 0.809\n"
     ]
    }
   ],
   "source": [
    "from sklearn.ensemble import GradientBoostingClassifier\n",
    "gbrt = GradientBoostingClassifier(random_state=0, learning_rate=0.01)\n",
    "gbrt.fit(X_train, y_train)\n",
    "\n",
    "print(\"Accuracy on training set: {:.3f}\".format(gbrt.score(X_train, y_train)))\n",
    "print(\"Accuracy on test set: {:.3f}\".format(gbrt.score(X_test, y_test)))"
   ]
  },
  {
   "cell_type": "markdown",
   "metadata": {},
   "source": [
    "Gradient boosting is a boosting method which works by improving on the residual errors instead of adding weights like Adaboost"
   ]
  },
  {
   "cell_type": "markdown",
   "metadata": {},
   "source": [
    "with extremely small learning rate of 0.01 and max_depth of 3, the gradient boosting provides equal train and test scores, however the scores have reduced than the original model, hence the learning rate needs to be increased in order create a better model"
   ]
  },
  {
   "cell_type": "code",
   "execution_count": 65,
   "metadata": {},
   "outputs": [
    {
     "name": "stdout",
     "output_type": "stream",
     "text": [
      "Accuracy on training set: 0.881\n",
      "Accuracy on test set: 0.863\n"
     ]
    }
   ],
   "source": [
    "from sklearn.ensemble import GradientBoostingClassifier\n",
    "gbrt = GradientBoostingClassifier(random_state=0, learning_rate=0.5)\n",
    "gbrt.fit(X_train, y_train)\n",
    "\n",
    "print(\"Accuracy on training set: {:.3f}\".format(gbrt.score(X_train, y_train)))\n",
    "print(\"Accuracy on test set: {:.3f}\".format(gbrt.score(X_test, y_test)))"
   ]
  },
  {
   "cell_type": "markdown",
   "metadata": {},
   "source": [
    "with learning rate of 0.5 and max_depth of 3, the training and test scores improve, however the training score has improved tremendously indicating slight overfit in the model "
   ]
  },
  {
   "cell_type": "code",
   "execution_count": 345,
   "metadata": {},
   "outputs": [
    {
     "name": "stdout",
     "output_type": "stream",
     "text": [
      "Accuracy on training set: 0.869\n",
      "Accuracy on test set: 0.864\n"
     ]
    }
   ],
   "source": [
    "from sklearn.ensemble import GradientBoostingClassifier\n",
    "gbrt = GradientBoostingClassifier(random_state=0,learning_rate=0.2)\n",
    "gbrt.fit(X_train, y_train)\n",
    "\n",
    "print(\"Accuracy on training set: {:.3f}\".format(gbrt.score(X_train, y_train)))\n",
    "print(\"Accuracy on test set: {:.3f}\".format(gbrt.score(X_test, y_test)))"
   ]
  },
  {
   "cell_type": "markdown",
   "metadata": {},
   "source": [
    "As we can see with smaller learning rate, the gradient boosting classifier will require more trees to fit in the training set, hence generalising the dataset and as we can see by lowering the learning rate to 0.2, the score has dropped slightly indicating a proper fit"
   ]
  },
  {
   "cell_type": "markdown",
   "metadata": {},
   "source": [
    "# Principal Component Analysis"
   ]
  },
  {
   "cell_type": "code",
   "execution_count": 232,
   "metadata": {},
   "outputs": [
    {
     "data": {
      "text/plain": [
       "[<matplotlib.lines.Line2D at 0x180a036bc88>]"
      ]
     },
     "execution_count": 232,
     "metadata": {},
     "output_type": "execute_result"
    },
    {
     "data": {
      "image/png": "[encoded data removed]",
      "text/plain": [
       "<Figure size 864x504 with 1 Axes>"
      ]
     },
     "metadata": {
      "needs_background": "light"
     },
     "output_type": "display_data"
    }
   ],
   "source": [
    "from sklearn.decomposition import PCA\n",
    "mat = PCA(n_components = 37)#number of components originally in the dataset\n",
    "mat.fit(X_train)\n",
    "variance = mat.explained_variance_ratio_ \n",
    "var_ratio=np.cumsum(np.round(mat.explained_variance_ratio_, decimals=3)*100)\n",
    "plt.ylabel('Percentage Variance Explained')\n",
    "plt.xlabel('Number of Features')\n",
    "plt.title('PCA Analysis')\n",
    "plt.ylim(20,100.5)\n",
    "plt.style.context('seaborn-whitegrid')\n",
    "\n",
    "\n",
    "plt.plot(var_ratio)"
   ]
  },
  {
   "cell_type": "markdown",
   "metadata": {},
   "source": [
    "The above plot is an explained variance ratio plot which can be used to identify the number of features explaining the highest amount of variance. As per above plot, we decided number of components to be 26 as most of the variance is being explained in 26 components"
   ]
  },
  {
   "cell_type": "code",
   "execution_count": 129,
   "metadata": {},
   "outputs": [],
   "source": [
    "pca=PCA(n_components=26)"
   ]
  },
  {
   "cell_type": "code",
   "execution_count": 130,
   "metadata": {},
   "outputs": [
    {
     "data": {
      "text/plain": [
       "26"
      ]
     },
     "execution_count": 130,
     "metadata": {},
     "output_type": "execute_result"
    }
   ],
   "source": [
    "pca.fit(X_train)\n",
    "pca.n_components_"
   ]
  },
  {
   "cell_type": "code",
   "execution_count": 131,
   "metadata": {},
   "outputs": [
    {
     "data": {
      "text/plain": [
       "array([0.48455632, 0.34444833, 0.27233686, 0.25063449, 0.22509679,\n",
       "       0.2207961 , 0.18046516, 0.16148736, 0.14594147, 0.13270325,\n",
       "       0.12800159, 0.11507155, 0.10856444, 0.099604  , 0.08922108,\n",
       "       0.07754436, 0.05585737, 0.05419676, 0.04700219, 0.04381613,\n",
       "       0.03517443, 0.03176904, 0.02988302, 0.01812832, 0.01783615,\n",
       "       0.01361716])"
      ]
     },
     "execution_count": 131,
     "metadata": {},
     "output_type": "execute_result"
    }
   ],
   "source": [
    "pca.explained_variance_"
   ]
  },
  {
   "cell_type": "code",
   "execution_count": 132,
   "metadata": {},
   "outputs": [],
   "source": [
    "X_train_pca=pca.transform(X_train)\n",
    "X_test_pca=pca.transform(X_test)"
   ]
  },
  {
   "cell_type": "code",
   "execution_count": 210,
   "metadata": {},
   "outputs": [
    {
     "data": {
      "text/plain": [
       "0.009410543437615826"
      ]
     },
     "execution_count": 210,
     "metadata": {},
     "output_type": "execute_result"
    }
   ],
   "source": [
    "#Amount of variance not explained\n",
    "1-pca.explained_variance_ratio_.sum()"
   ]
  },
  {
   "cell_type": "markdown",
   "metadata": {},
   "source": [
    "As we can see above, training dataset is explaining around 99% of the variance and only 1% of the variance is unexplained"
   ]
  },
  {
   "cell_type": "markdown",
   "metadata": {},
   "source": [
    " "
   ]
  },
  {
   "cell_type": "markdown",
   "metadata": {},
   "source": [
    "Applying the new training set on all the previous models"
   ]
  },
  {
   "cell_type": "markdown",
   "metadata": {},
   "source": [
    "# K Neighbors"
   ]
  },
  {
   "cell_type": "code",
   "execution_count": 133,
   "metadata": {},
   "outputs": [
    {
     "name": "stdout",
     "output_type": "stream",
     "text": [
      "Parameter grid:\n",
      "{'n_neighbors': [24, 25, 26, 27]}\n"
     ]
    }
   ],
   "source": [
    "param_grid = {'n_neighbors': [24,25,26,27]\n",
    "              }\n",
    "print(\"Parameter grid:\\n{}\".format(param_grid))"
   ]
  },
  {
   "cell_type": "code",
   "execution_count": 134,
   "metadata": {},
   "outputs": [],
   "source": [
    "from sklearn.model_selection import GridSearchCV\n",
    "grid_search = GridSearchCV(KNeighborsClassifier(), param_grid, cv=5, return_train_score=True)"
   ]
  },
  {
   "cell_type": "code",
   "execution_count": 135,
   "metadata": {},
   "outputs": [
    {
     "data": {
      "text/plain": [
       "GridSearchCV(cv=5, error_score='raise-deprecating',\n",
       "             estimator=KNeighborsClassifier(algorithm='auto', leaf_size=30,\n",
       "                                            metric='minkowski',\n",
       "                                            metric_params=None, n_jobs=None,\n",
       "                                            n_neighbors=5, p=2,\n",
       "                                            weights='uniform'),\n",
       "             iid='warn', n_jobs=None,\n",
       "             param_grid={'n_neighbors': [24, 25, 26, 27]},\n",
       "             pre_dispatch='2*n_jobs', refit=True, return_train_score=True,\n",
       "             scoring=None, verbose=0)"
      ]
     },
     "execution_count": 135,
     "metadata": {},
     "output_type": "execute_result"
    }
   ],
   "source": [
    "grid_search.fit(X_train_pca, y_train)"
   ]
  },
  {
   "cell_type": "code",
   "execution_count": 136,
   "metadata": {},
   "outputs": [
    {
     "name": "stdout",
     "output_type": "stream",
     "text": [
      "Best parameters: {'n_neighbors': 25}\n",
      "Best cross-validation score: 0.82\n"
     ]
    }
   ],
   "source": [
    "print(\"Best parameters: {}\".format(grid_search.best_params_))\n",
    "print(\"Best cross-validation score: {:.2f}\".format(grid_search.best_score_))"
   ]
  },
  {
   "cell_type": "code",
   "execution_count": 137,
   "metadata": {},
   "outputs": [
    {
     "name": "stdout",
     "output_type": "stream",
     "text": [
      "Train score: 0.8206\n",
      "Test score: 0.8179\n"
     ]
    }
   ],
   "source": [
    "knn = KNeighborsClassifier(25)\n",
    "knn.fit(X_train_pca, y_train)\n",
    "scores1 = cross_val_score(knn, X_train_pca, y_train)\n",
    "scores2 = cross_val_score(knn, X_test_pca, y_test)\n",
    "print('Train score: {:.4f}'.format(scores1.mean()))\n",
    "print('Test score: {:.4f}'.format(scores2.mean()))"
   ]
  },
  {
   "cell_type": "markdown",
   "metadata": {},
   "source": [
    "# Logistic Regression"
   ]
  },
  {
   "cell_type": "code",
   "execution_count": 140,
   "metadata": {},
   "outputs": [
    {
     "name": "stdout",
     "output_type": "stream",
     "text": [
      "Parameter grid:\n",
      "{'C': [0.001, 0.01, 0.1, 1, 10, 100]}\n"
     ]
    }
   ],
   "source": [
    "from sklearn.linear_model import LogisticRegression\n",
    "param_grid = {'C': [0.001, 0.01, 0.1, 1, 10, 100]\n",
    "              }\n",
    "print(\"Parameter grid:\\n{}\".format(param_grid))"
   ]
  },
  {
   "cell_type": "code",
   "execution_count": 141,
   "metadata": {},
   "outputs": [],
   "source": [
    "\n",
    "grid_search = GridSearchCV(LogisticRegression(), param_grid, cv=5, return_train_score=True)"
   ]
  },
  {
   "cell_type": "code",
   "execution_count": 142,
   "metadata": {},
   "outputs": [
    {
     "data": {
      "text/plain": [
       "GridSearchCV(cv=5, error_score='raise-deprecating',\n",
       "             estimator=LogisticRegression(C=1.0, class_weight=None, dual=False,\n",
       "                                          fit_intercept=True,\n",
       "                                          intercept_scaling=1, l1_ratio=None,\n",
       "                                          max_iter=100, multi_class='warn',\n",
       "                                          n_jobs=None, penalty='l2',\n",
       "                                          random_state=None, solver='warn',\n",
       "                                          tol=0.0001, verbose=0,\n",
       "                                          warm_start=False),\n",
       "             iid='warn', n_jobs=None,\n",
       "             param_grid={'C': [0.001, 0.01, 0.1, 1, 10, 100]},\n",
       "             pre_dispatch='2*n_jobs', refit=True, return_train_score=True,\n",
       "             scoring=None, verbose=0)"
      ]
     },
     "execution_count": 142,
     "metadata": {},
     "output_type": "execute_result"
    }
   ],
   "source": [
    "grid_search.fit(X_train_pca, y_train)"
   ]
  },
  {
   "cell_type": "code",
   "execution_count": 143,
   "metadata": {},
   "outputs": [
    {
     "name": "stdout",
     "output_type": "stream",
     "text": [
      "Best parameters: {'C': 10}\n",
      "Best cross-validation score: 0.82\n"
     ]
    }
   ],
   "source": [
    "print(\"Best parameters: {}\".format(grid_search.best_params_))\n",
    "print(\"Best cross-validation score: {:.2f}\".format(grid_search.best_score_))"
   ]
  },
  {
   "cell_type": "code",
   "execution_count": 202,
   "metadata": {},
   "outputs": [
    {
     "name": "stdout",
     "output_type": "stream",
     "text": [
      "Train score: 0.8237\n",
      "Test score: 0.8287\n"
     ]
    }
   ],
   "source": [
    "#Grid Search CV\n",
    "log = LogisticRegression(C=100)\n",
    "log.fit(X_train_pca, y_train)\n",
    "scores1 = cross_val_score(log, X_train_pca, y_train)\n",
    "scores2 = cross_val_score(log, X_test_pca, y_test)\n",
    "print('Train score: {:.4f}'.format(scores1.mean()))\n",
    "print('Test score: {:.4f}'.format(scores2.mean()))"
   ]
  },
  {
   "cell_type": "markdown",
   "metadata": {},
   "source": [
    "# Linear SVC"
   ]
  },
  {
   "cell_type": "code",
   "execution_count": 145,
   "metadata": {},
   "outputs": [
    {
     "name": "stdout",
     "output_type": "stream",
     "text": [
      "Parameter grid:\n",
      "{'C': [0.001, 0.01, 0.1, 1, 10, 100]}\n"
     ]
    }
   ],
   "source": [
    "from sklearn.linear_model import LogisticRegression\n",
    "\n",
    "param_grid = {'C': [0.001, 0.01, 0.1, 1, 10, 100]}\n",
    "print(\"Parameter grid:\\n{}\".format(param_grid))"
   ]
  },
  {
   "cell_type": "code",
   "execution_count": 146,
   "metadata": {},
   "outputs": [],
   "source": [
    "grid_search = GridSearchCV(LinearSVC(), param_grid, cv=5, return_train_score=True)"
   ]
  },
  {
   "cell_type": "code",
   "execution_count": 150,
   "metadata": {},
   "outputs": [
    {
     "data": {
      "text/plain": [
       "GridSearchCV(cv=5, error_score='raise-deprecating',\n",
       "             estimator=LinearSVC(C=1.0, class_weight=None, dual=True,\n",
       "                                 fit_intercept=True, intercept_scaling=1,\n",
       "                                 loss='squared_hinge', max_iter=1000,\n",
       "                                 multi_class='ovr', penalty='l2',\n",
       "                                 random_state=None, tol=0.0001, verbose=0),\n",
       "             iid='warn', n_jobs=None,\n",
       "             param_grid={'C': [0.001, 0.01, 0.1, 1, 10, 100]},\n",
       "             pre_dispatch='2*n_jobs', refit=True, return_train_score=True,\n",
       "             scoring=None, verbose=0)"
      ]
     },
     "execution_count": 150,
     "metadata": {},
     "output_type": "execute_result"
    }
   ],
   "source": [
    "grid_search.fit(X_train_pca, y_train)"
   ]
  },
  {
   "cell_type": "code",
   "execution_count": 151,
   "metadata": {},
   "outputs": [
    {
     "name": "stdout",
     "output_type": "stream",
     "text": [
      "Best parameters: {'C': 10}\n",
      "Best cross-validation score: 0.82\n"
     ]
    }
   ],
   "source": [
    "print(\"Best parameters: {}\".format(grid_search.best_params_))\n",
    "print(\"Best cross-validation score: {:.2f}\".format(grid_search.best_score_))"
   ]
  },
  {
   "cell_type": "code",
   "execution_count": 198,
   "metadata": {},
   "outputs": [
    {
     "name": "stdout",
     "output_type": "stream",
     "text": [
      "Train score: 0.8236\n",
      "Test score: 0.8292\n"
     ]
    }
   ],
   "source": [
    "from sklearn.svm import LinearSVC\n",
    "lsvc = LinearSVC(C=10)\n",
    "lsvc.fit(X_train_pca, y_train)\n",
    "scores1 = cross_val_score(lsvc, X_train_pca, y_train)\n",
    "scores2 = cross_val_score(lsvc, X_test_pca, y_test)\n",
    "print('Train score: {:.4f}'.format(scores1.mean()))\n",
    "print('Test score: {:.4f}'.format(scores2.mean()))"
   ]
  },
  {
   "cell_type": "markdown",
   "metadata": {},
   "source": [
    "# SVC with kernels"
   ]
  },
  {
   "cell_type": "markdown",
   "metadata": {},
   "source": [
    "### Linear"
   ]
  },
  {
   "cell_type": "code",
   "execution_count": 161,
   "metadata": {},
   "outputs": [
    {
     "name": "stdout",
     "output_type": "stream",
     "text": [
      "Train score: 0.8220\n",
      "Test score: 0.8205\n"
     ]
    }
   ],
   "source": [
    "from sklearn.svm import SVC\n",
    "svcl = SVC(kernel='linear',C=10)\n",
    "svcl.fit(X_train_pca, y_train)\n",
    "scores1 = cross_val_score(svcl, X_train_pca, y_train)\n",
    "scores2 = cross_val_score(svcl, X_test_pca, y_test)\n",
    "print('Train score: {:.4f}'.format(scores1.mean()))\n",
    "print('Test score: {:.4f}'.format(scores2.mean()))"
   ]
  },
  {
   "cell_type": "markdown",
   "metadata": {},
   "source": [
    "### RBF"
   ]
  },
  {
   "cell_type": "code",
   "execution_count": 164,
   "metadata": {},
   "outputs": [
    {
     "name": "stdout",
     "output_type": "stream",
     "text": [
      "Train score: 0.8193\n",
      "Test score: 0.8191\n"
     ]
    }
   ],
   "source": [
    "from sklearn.svm import SVC\n",
    "svcr = SVC(kernel='rbf',C=100,gamma=0.01)\n",
    "svcr.fit(X_train_pca, y_train)\n",
    "scores1 = cross_val_score(svcr, X_train_pca, y_train)\n",
    "scores2 = cross_val_score(svcr, X_test_pca, y_test)\n",
    "print('Train score: {:.4f}'.format(scores1.mean()))\n",
    "print('Test score: {:.4f}'.format(scores2.mean()))"
   ]
  },
  {
   "cell_type": "markdown",
   "metadata": {},
   "source": [
    "### Poly"
   ]
  },
  {
   "cell_type": "code",
   "execution_count": 165,
   "metadata": {},
   "outputs": [
    {
     "name": "stdout",
     "output_type": "stream",
     "text": [
      "Train score: 0.8146\n",
      "Test score: 0.8083\n"
     ]
    }
   ],
   "source": [
    "from sklearn.svm import SVC\n",
    "svcr = SVC(kernel='poly',C=100,gamma=0.1)\n",
    "svcr.fit(X_train_pca, y_train)\n",
    "scores1 = cross_val_score(svcr, X_train_pca, y_train)\n",
    "scores2 = cross_val_score(svcr, X_test_pca, y_test)\n",
    "print('Train score: {:.4f}'.format(scores1.mean()))\n",
    "print('Test score: {:.4f}'.format(scores2.mean()))"
   ]
  },
  {
   "cell_type": "markdown",
   "metadata": {},
   "source": [
    "# Decision Tree"
   ]
  },
  {
   "cell_type": "code",
   "execution_count": 207,
   "metadata": {},
   "outputs": [
    {
     "name": "stdout",
     "output_type": "stream",
     "text": [
      "Train score: 0.8234\n",
      "Test score: 0.8155\n"
     ]
    }
   ],
   "source": [
    "from sklearn.tree import DecisionTreeClassifier\n",
    "dtree = DecisionTreeClassifier(max_depth=6)\n",
    "dtree.fit(X_train_pca, y_train)\n",
    "print('Train score: {:.4f}'.format(dtree.score(X_train_pca, y_train)))\n",
    "print('Test score: {:.4f}'.format(dtree.score(X_test_pca, y_test)))"
   ]
  },
  {
   "cell_type": "markdown",
   "metadata": {},
   "source": [
    "# PCA comparison with original models"
   ]
  },
  {
   "cell_type": "code",
   "execution_count": 199,
   "metadata": {},
   "outputs": [
    {
     "data": {
      "text/html": [
       "<div>\n",
       "<style scoped>\n",
       "    .dataframe tbody tr th:only-of-type {\n",
       "        vertical-align: middle;\n",
       "    }\n",
       "\n",
       "    .dataframe tbody tr th {\n",
       "        vertical-align: top;\n",
       "    }\n",
       "\n",
       "    .dataframe thead th {\n",
       "        text-align: right;\n",
       "    }\n",
       "</style>\n",
       "<table border=\"1\" class=\"dataframe\">\n",
       "  <thead>\n",
       "    <tr style=\"text-align: right;\">\n",
       "      <th></th>\n",
       "      <th>Model_Name</th>\n",
       "      <th>Training Score (without PCA)</th>\n",
       "      <th>Test Score (without PCA)</th>\n",
       "      <th>Training Score (with PCA)</th>\n",
       "      <th>Test Score (with PCA)</th>\n",
       "    </tr>\n",
       "  </thead>\n",
       "  <tbody>\n",
       "    <tr>\n",
       "      <td>0</td>\n",
       "      <td>KNN</td>\n",
       "      <td>0.8242</td>\n",
       "      <td>0.8217</td>\n",
       "      <td>0.8206</td>\n",
       "      <td>0.8179</td>\n",
       "    </tr>\n",
       "    <tr>\n",
       "      <td>1</td>\n",
       "      <td>Logistic</td>\n",
       "      <td>0.8420</td>\n",
       "      <td>0.8426</td>\n",
       "      <td>0.8237</td>\n",
       "      <td>0.8287</td>\n",
       "    </tr>\n",
       "    <tr>\n",
       "      <td>2</td>\n",
       "      <td>Linear SVC</td>\n",
       "      <td>0.8429</td>\n",
       "      <td>0.8421</td>\n",
       "      <td>0.8236</td>\n",
       "      <td>0.8292</td>\n",
       "    </tr>\n",
       "    <tr>\n",
       "      <td>3</td>\n",
       "      <td>SVC Kernel Linear</td>\n",
       "      <td>0.8391</td>\n",
       "      <td>0.8424</td>\n",
       "      <td>0.8220</td>\n",
       "      <td>0.8205</td>\n",
       "    </tr>\n",
       "    <tr>\n",
       "      <td>4</td>\n",
       "      <td>SVC Kernel RBF</td>\n",
       "      <td>0.8415</td>\n",
       "      <td>0.8358</td>\n",
       "      <td>0.8193</td>\n",
       "      <td>0.8191</td>\n",
       "    </tr>\n",
       "    <tr>\n",
       "      <td>5</td>\n",
       "      <td>SVC Kernel Poly</td>\n",
       "      <td>0.8358</td>\n",
       "      <td>0.8279</td>\n",
       "      <td>0.8146</td>\n",
       "      <td>0.8083</td>\n",
       "    </tr>\n",
       "    <tr>\n",
       "      <td>6</td>\n",
       "      <td>Decision Tree</td>\n",
       "      <td>0.8559</td>\n",
       "      <td>0.8538</td>\n",
       "      <td>0.8234</td>\n",
       "      <td>0.8155</td>\n",
       "    </tr>\n",
       "  </tbody>\n",
       "</table>\n",
       "</div>"
      ],
      "text/plain": [
       "          Model_Name  Training Score (without PCA)  Test Score (without PCA)  \\\n",
       "0                KNN                        0.8242                    0.8217   \n",
       "1           Logistic                        0.8420                    0.8426   \n",
       "2         Linear SVC                        0.8429                    0.8421   \n",
       "3  SVC Kernel Linear                        0.8391                    0.8424   \n",
       "4     SVC Kernel RBF                        0.8415                    0.8358   \n",
       "5    SVC Kernel Poly                        0.8358                    0.8279   \n",
       "6      Decision Tree                        0.8559                    0.8538   \n",
       "\n",
       "   Training Score (with PCA)  Test Score (with PCA)  \n",
       "0                     0.8206                 0.8179  \n",
       "1                     0.8237                 0.8287  \n",
       "2                     0.8236                 0.8292  \n",
       "3                     0.8220                 0.8205  \n",
       "4                     0.8193                 0.8191  \n",
       "5                     0.8146                 0.8083  \n",
       "6                     0.8234                 0.8155  "
      ]
     },
     "execution_count": 199,
     "metadata": {},
     "output_type": "execute_result"
    }
   ],
   "source": [
    "M={'Model_Name':['KNN','Logistic','Linear SVC','SVC Kernel Linear','SVC Kernel RBF','SVC Kernel Poly','Decision Tree'],\n",
    "      'Training Score (without PCA)':[0.8242,0.8420,0.8429,0.8391,0.8415,0.8358,0.8559],\n",
    "       'Test Score (without PCA)':[0.8217,0.8426,0.8421,0.8424,0.8358,0.8279,0.8538],\n",
    "  'Training Score (with PCA)':[0.8206,0.8237,0.8236,0.8220,0.8193,0.8146,0.8234],\n",
    "  'Test Score (with PCA)':[0.8179,0.8287,0.8292,0.8205,0.8191,0.8083,0.8155]}\n",
    "Model=pd.DataFrame(M)\n",
    "Model\n"
   ]
  },
  {
   "cell_type": "code",
   "execution_count": 36,
   "metadata": {},
   "outputs": [
    {
     "data": {
      "text/plain": [
       "Text(0, 0.5, 'Score')"
      ]
     },
     "execution_count": 36,
     "metadata": {},
     "output_type": "execute_result"
    },
    {
     "data": {
      "image/png": "[encoded data removed]",
      "text/plain": [
       "<Figure size 864x504 with 1 Axes>"
      ]
     },
     "metadata": {
      "needs_background": "light"
     },
     "output_type": "display_data"
    }
   ],
   "source": [
    "import matplotlib.pyplot as plt\n",
    "%matplotlib inline\n",
    "\n",
    "Mod_Name=['KNN','Logistic','Linear SVC','SVC Kernel Linear','SVC Kernel RBF','SVC Kernel Poly','Decision Tree']\n",
    "Training_Score=[0.8242,0.8420,0.8429,0.8391,0.8415,0.8358,0.8559]\n",
    "Test_Score=[0.8217,0.8426,0.8421,0.8424,0.8358,0.8279,0.8538]\n",
    "plt.rcParams['figure.figsize']=(12,7)\n",
    "plt.plot(Mod_Name, Training_Score, label = 'Train score')\n",
    "plt.plot(Mod_Name, Test_Score, label = 'Test score')\n",
    "plt.legend()\n",
    "plt.xlabel('Models')\n",
    "plt.ylabel('Score')\n",
    "\n",
    "Mod_Name=['KNN','Logistic','Linear SVC','SVC Kernel Linear','SVC Kernel RBF','SVC Kernel Poly','Decision Tree']\n",
    "Training_Score_PCA=[0.8206,0.8237,0.8236,0.8220,0.8193,0.8146,0.8234]\n",
    "Test_Score_PCA=[0.8179,0.8287,0.8292,0.8205,0.8191,0.8083,0.8155]\n",
    "plt.rcParams['figure.figsize']=(12,7)\n",
    "plt.plot(Mod_Name, Training_Score_PCA, label = 'Train score (with PCA)')\n",
    "plt.plot(Mod_Name, Test_Score_PCA, label = 'Test score (with PCA)')\n",
    "plt.legend()\n",
    "plt.xlabel('Models')\n",
    "plt.ylabel('Score')"
   ]
  },
  {
   "cell_type": "markdown",
   "metadata": {},
   "source": [
    "Insights and Conclusion:\n",
    "1. From the above graph, we can observe that there is a drop in training and test scores than the previous models. It is simply because of the reduced dimensionality which causes the score to drop, however the drop is very minimal as all the PCA models follows the trend around 0.82 which is slightly lower than 0.84\n",
    "2. Previously, logistic and SVC with linear kernel were bad models and rest of the models performed well. In PCA model, linear SVC is underfitting along with logistic, however SVC with linear kernel has improved with PCA and also the fit of the SVC with rbf kernel has also improved.\n",
    "3. Overall with PCA, the models have improved with most of the models performing good with reduced dimensions."
   ]
  },
  {
   "cell_type": "markdown",
   "metadata": {},
   "source": [
    "# Deep Learning Algorithm"
   ]
  },
  {
   "cell_type": "code",
   "execution_count": 70,
   "metadata": {},
   "outputs": [],
   "source": [
    "from keras.models import Sequential\n",
    "from keras.layers import Dense\n",
    "import numpy\n",
    "\n",
    "# fix random seed for reproducibility\n",
    "numpy.random.seed(10)"
   ]
  },
  {
   "cell_type": "code",
   "execution_count": 74,
   "metadata": {},
   "outputs": [],
   "source": [
    "# create model\n",
    "model = Sequential()\n",
    "model.add(Dense(15, input_dim=37, activation='relu'))\n",
    "model.add(Dense(8, activation='relu'))\n",
    "model.add(Dense(8, activation='relu'))\n",
    "model.add(Dense(8, activation='relu'))\n",
    "model.add(Dense(8, activation='relu'))\n",
    "model.add(Dense(1, activation='sigmoid'))"
   ]
  },
  {
   "cell_type": "markdown",
   "metadata": {},
   "source": [
    "created a multilayered perceptron with 4 hidden layers and each hidden layer has 8 nodes"
   ]
  },
  {
   "cell_type": "code",
   "execution_count": 75,
   "metadata": {},
   "outputs": [],
   "source": [
    "# Compile model\n",
    "model.compile(loss='binary_crossentropy', optimizer='adam', metrics=['accuracy'])"
   ]
  },
  {
   "cell_type": "markdown",
   "metadata": {},
   "source": [
    "since it is a classification model, we have used binary cross entropy as the loss function with adam as the optimizer and accuracy as the metrics "
   ]
  },
  {
   "cell_type": "code",
   "execution_count": 76,
   "metadata": {},
   "outputs": [
    {
     "name": "stdout",
     "output_type": "stream",
     "text": [
      "Epoch 1/150\n",
      "23043/23043 [==============================] - 7s 284us/step - loss: 0.3907 - accuracy: 0.8155\n",
      "Epoch 2/150\n",
      "23043/23043 [==============================] - 6s 258us/step - loss: 0.3511 - accuracy: 0.8346\n",
      "Epoch 3/150\n",
      "23043/23043 [==============================] - 6s 265us/step - loss: 0.3407 - accuracy: 0.8400\n",
      "Epoch 4/150\n",
      "23043/23043 [==============================] - 6s 257us/step - loss: 0.3387 - accuracy: 0.8390\n",
      "Epoch 5/150\n",
      "23043/23043 [==============================] - 6s 276us/step - loss: 0.3361 - accuracy: 0.8419\n",
      "Epoch 6/150\n",
      "23043/23043 [==============================] - 2s 89us/step - loss: 0.3339 - accuracy: 0.8428\n",
      "Epoch 7/150\n",
      "23043/23043 [==============================] - 2s 81us/step - loss: 0.3328 - accuracy: 0.8428\n",
      "Epoch 8/150\n",
      "23043/23043 [==============================] - 2s 81us/step - loss: 0.3317 - accuracy: 0.8445\n",
      "Epoch 9/150\n",
      "23043/23043 [==============================] - 2s 79us/step - loss: 0.3298 - accuracy: 0.8424\n",
      "Epoch 10/150\n",
      "23043/23043 [==============================] - 2s 78us/step - loss: 0.3292 - accuracy: 0.8453\n",
      "Epoch 11/150\n",
      "23043/23043 [==============================] - 2s 81us/step - loss: 0.3279 - accuracy: 0.8459\n",
      "Epoch 12/150\n",
      "23043/23043 [==============================] - 2s 81us/step - loss: 0.3274 - accuracy: 0.8442\n",
      "Epoch 13/150\n",
      "23043/23043 [==============================] - 2s 84us/step - loss: 0.3259 - accuracy: 0.8453\n",
      "Epoch 14/150\n",
      "23043/23043 [==============================] - 2s 86us/step - loss: 0.3250 - accuracy: 0.8458\n",
      "Epoch 15/150\n",
      "23043/23043 [==============================] - 2s 86us/step - loss: 0.3244 - accuracy: 0.8465\n",
      "Epoch 16/150\n",
      "23043/23043 [==============================] - 2s 88us/step - loss: 0.3239 - accuracy: 0.8472\n",
      "Epoch 17/150\n",
      "23043/23043 [==============================] - 2s 90us/step - loss: 0.3230 - accuracy: 0.8475\n",
      "Epoch 18/150\n",
      "23043/23043 [==============================] - 2s 88us/step - loss: 0.3213 - accuracy: 0.8480\n",
      "Epoch 19/150\n",
      "23043/23043 [==============================] - 2s 82us/step - loss: 0.3218 - accuracy: 0.8493\n",
      "Epoch 20/150\n",
      "23043/23043 [==============================] - 2s 83us/step - loss: 0.3205 - accuracy: 0.8487\n",
      "Epoch 21/150\n",
      "23043/23043 [==============================] - 2s 83us/step - loss: 0.3203 - accuracy: 0.8476\n",
      "Epoch 22/150\n",
      "23043/23043 [==============================] - ETA: 0s - loss: 0.3195 - accuracy: 0.84 - 2s 83us/step - loss: 0.3194 - accuracy: 0.8488\n",
      "Epoch 23/150\n",
      "23043/23043 [==============================] - 2s 83us/step - loss: 0.3190 - accuracy: 0.8485\n",
      "Epoch 24/150\n",
      "23043/23043 [==============================] - 2s 81us/step - loss: 0.3182 - accuracy: 0.8495\n",
      "Epoch 25/150\n",
      "23043/23043 [==============================] - 2s 81us/step - loss: 0.3177 - accuracy: 0.8499\n",
      "Epoch 26/150\n",
      "23043/23043 [==============================] - 2s 82us/step - loss: 0.3170 - accuracy: 0.8511\n",
      "Epoch 27/150\n",
      "23043/23043 [==============================] - 2s 82us/step - loss: 0.3165 - accuracy: 0.8489\n",
      "Epoch 28/150\n",
      "23043/23043 [==============================] - 2s 82us/step - loss: 0.3172 - accuracy: 0.8507\n",
      "Epoch 29/150\n",
      "23043/23043 [==============================] - 2s 83us/step - loss: 0.3166 - accuracy: 0.8491\n",
      "Epoch 30/150\n",
      "23043/23043 [==============================] - 2s 81us/step - loss: 0.3161 - accuracy: 0.8508\n",
      "Epoch 31/150\n",
      "23043/23043 [==============================] - 2s 84us/step - loss: 0.3156 - accuracy: 0.8499\n",
      "Epoch 32/150\n",
      "23043/23043 [==============================] - 2s 81us/step - loss: 0.3153 - accuracy: 0.8499\n",
      "Epoch 33/150\n",
      "23043/23043 [==============================] - 2s 84us/step - loss: 0.3144 - accuracy: 0.8514\n",
      "Epoch 34/150\n",
      "23043/23043 [==============================] - 2s 92us/step - loss: 0.3152 - accuracy: 0.8493\n",
      "Epoch 35/150\n",
      "23043/23043 [==============================] - 2s 83us/step - loss: 0.3136 - accuracy: 0.8508\n",
      "Epoch 36/150\n",
      "23043/23043 [==============================] - 2s 82us/step - loss: 0.3137 - accuracy: 0.8525\n",
      "Epoch 37/150\n",
      "23043/23043 [==============================] - 2s 82us/step - loss: 0.3130 - accuracy: 0.8530\n",
      "Epoch 38/150\n",
      "23043/23043 [==============================] - 2s 83us/step - loss: 0.3135 - accuracy: 0.8505\n",
      "Epoch 39/150\n",
      "23043/23043 [==============================] - 2s 81us/step - loss: 0.3128 - accuracy: 0.8527\n",
      "Epoch 40/150\n",
      "23043/23043 [==============================] - 2s 82us/step - loss: 0.3124 - accuracy: 0.8521\n",
      "Epoch 41/150\n",
      "23043/23043 [==============================] - 2s 82us/step - loss: 0.3119 - accuracy: 0.8519\n",
      "Epoch 42/150\n",
      "23043/23043 [==============================] - 2s 86us/step - loss: 0.3115 - accuracy: 0.8532\n",
      "Epoch 43/150\n",
      "23043/23043 [==============================] - 2s 82us/step - loss: 0.3117 - accuracy: 0.8526\n",
      "Epoch 44/150\n",
      "23043/23043 [==============================] - 2s 81us/step - loss: 0.3112 - accuracy: 0.8524\n",
      "Epoch 45/150\n",
      "23043/23043 [==============================] - 2s 81us/step - loss: 0.3117 - accuracy: 0.8515\n",
      "Epoch 46/150\n",
      "23043/23043 [==============================] - 2s 81us/step - loss: 0.3108 - accuracy: 0.8528\n",
      "Epoch 47/150\n",
      "23043/23043 [==============================] - 2s 82us/step - loss: 0.3098 - accuracy: 0.8529\n",
      "Epoch 48/150\n",
      "23043/23043 [==============================] - 2s 82us/step - loss: 0.3101 - accuracy: 0.8531\n",
      "Epoch 49/150\n",
      "23043/23043 [==============================] - 2s 84us/step - loss: 0.3094 - accuracy: 0.8524\n",
      "Epoch 50/150\n",
      "23043/23043 [==============================] - 2s 82us/step - loss: 0.3092 - accuracy: 0.8532\n",
      "Epoch 51/150\n",
      "23043/23043 [==============================] - 2s 80us/step - loss: 0.3091 - accuracy: 0.8533\n",
      "Epoch 52/150\n",
      "23043/23043 [==============================] - 2s 82us/step - loss: 0.3088 - accuracy: 0.8537\n",
      "Epoch 53/150\n",
      "23043/23043 [==============================] - 2s 83us/step - loss: 0.3087 - accuracy: 0.8547\n",
      "Epoch 54/150\n",
      "23043/23043 [==============================] - 2s 83us/step - loss: 0.3083 - accuracy: 0.8540\n",
      "Epoch 55/150\n",
      "23043/23043 [==============================] - 2s 82us/step - loss: 0.3070 - accuracy: 0.8545\n",
      "Epoch 56/150\n",
      "23043/23043 [==============================] - 2s 81us/step - loss: 0.3074 - accuracy: 0.8547\n",
      "Epoch 57/150\n",
      "23043/23043 [==============================] - 2s 80us/step - loss: 0.3075 - accuracy: 0.8543\n",
      "Epoch 58/150\n",
      "23043/23043 [==============================] - 2s 80us/step - loss: 0.3071 - accuracy: 0.8540\n",
      "Epoch 59/150\n",
      "23043/23043 [==============================] - 2s 81us/step - loss: 0.3069 - accuracy: 0.8545\n",
      "Epoch 60/150\n",
      "23043/23043 [==============================] - 2s 78us/step - loss: 0.3060 - accuracy: 0.8532\n",
      "Epoch 61/150\n",
      "23043/23043 [==============================] - 2s 81us/step - loss: 0.3066 - accuracy: 0.8539\n",
      "Epoch 62/150\n",
      "23043/23043 [==============================] - 2s 80us/step - loss: 0.3062 - accuracy: 0.8541\n",
      "Epoch 63/150\n",
      "23043/23043 [==============================] - 2s 81us/step - loss: 0.3052 - accuracy: 0.8548\n",
      "Epoch 64/150\n",
      "23043/23043 [==============================] - 2s 80us/step - loss: 0.3053 - accuracy: 0.8547\n",
      "Epoch 65/150\n",
      "23043/23043 [==============================] - 2s 81us/step - loss: 0.3048 - accuracy: 0.8548\n",
      "Epoch 66/150\n",
      "23043/23043 [==============================] - 2s 81us/step - loss: 0.3054 - accuracy: 0.8541\n",
      "Epoch 67/150\n",
      "23043/23043 [==============================] - 2s 80us/step - loss: 0.3049 - accuracy: 0.8551\n",
      "Epoch 68/150\n",
      "23043/23043 [==============================] - 2s 80us/step - loss: 0.3046 - accuracy: 0.8551\n",
      "Epoch 69/150\n",
      "23043/23043 [==============================] - 2s 79us/step - loss: 0.3041 - accuracy: 0.8543\n",
      "Epoch 70/150\n",
      "23043/23043 [==============================] - 2s 79us/step - loss: 0.3044 - accuracy: 0.8548\n",
      "Epoch 71/150\n",
      "23043/23043 [==============================] - 2s 81us/step - loss: 0.3037 - accuracy: 0.8550\n",
      "Epoch 72/150\n",
      "23043/23043 [==============================] - 2s 80us/step - loss: 0.3037 - accuracy: 0.8551\n",
      "Epoch 73/150\n",
      "23043/23043 [==============================] - 2s 81us/step - loss: 0.3036 - accuracy: 0.8564\n",
      "Epoch 74/150\n",
      "23043/23043 [==============================] - 2s 81us/step - loss: 0.3040 - accuracy: 0.8541\n",
      "Epoch 75/150\n",
      "23043/23043 [==============================] - 2s 80us/step - loss: 0.3033 - accuracy: 0.8553\n",
      "Epoch 76/150\n",
      "23043/23043 [==============================] - 2s 82us/step - loss: 0.3027 - accuracy: 0.8549\n",
      "Epoch 77/150\n",
      "23043/23043 [==============================] - 2s 80us/step - loss: 0.3032 - accuracy: 0.8561\n",
      "Epoch 78/150\n",
      "23043/23043 [==============================] - 2s 83us/step - loss: 0.3026 - accuracy: 0.8558\n",
      "Epoch 79/150\n",
      "23043/23043 [==============================] - 2s 81us/step - loss: 0.3029 - accuracy: 0.8547\n",
      "Epoch 80/150\n",
      "23043/23043 [==============================] - 2s 80us/step - loss: 0.3027 - accuracy: 0.8545\n",
      "Epoch 81/150\n",
      "23043/23043 [==============================] - 2s 81us/step - loss: 0.3023 - accuracy: 0.8554\n",
      "Epoch 82/150\n",
      "23043/23043 [==============================] - 2s 81us/step - loss: 0.3026 - accuracy: 0.8541\n",
      "Epoch 83/150\n",
      "23043/23043 [==============================] - 2s 81us/step - loss: 0.3014 - accuracy: 0.8561\n",
      "Epoch 84/150\n",
      "23043/23043 [==============================] - 2s 80us/step - loss: 0.3025 - accuracy: 0.8546\n",
      "Epoch 85/150\n",
      "23043/23043 [==============================] - 2s 81us/step - loss: 0.3012 - accuracy: 0.8547\n",
      "Epoch 86/150\n",
      "23043/23043 [==============================] - 2s 78us/step - loss: 0.3020 - accuracy: 0.8553\n",
      "Epoch 87/150\n",
      "23043/23043 [==============================] - 2s 81us/step - loss: 0.3020 - accuracy: 0.8546\n",
      "Epoch 88/150\n",
      "23043/23043 [==============================] - 2s 80us/step - loss: 0.3012 - accuracy: 0.8564\n",
      "Epoch 89/150\n",
      "23043/23043 [==============================] - 2s 80us/step - loss: 0.3009 - accuracy: 0.8561\n",
      "Epoch 90/150\n",
      "23043/23043 [==============================] - 2s 82us/step - loss: 0.3014 - accuracy: 0.8549\n",
      "Epoch 91/150\n",
      "23043/23043 [==============================] - 2s 80us/step - loss: 0.3013 - accuracy: 0.8575\n",
      "Epoch 92/150\n",
      "23043/23043 [==============================] - 2s 80us/step - loss: 0.3013 - accuracy: 0.8566\n",
      "Epoch 93/150\n",
      "23043/23043 [==============================] - 2s 81us/step - loss: 0.3014 - accuracy: 0.8557\n",
      "Epoch 94/150\n",
      "23043/23043 [==============================] - 2s 79us/step - loss: 0.3015 - accuracy: 0.8561\n",
      "Epoch 95/150\n",
      "23043/23043 [==============================] - 2s 81us/step - loss: 0.3019 - accuracy: 0.8557\n",
      "Epoch 96/150\n",
      "23043/23043 [==============================] - 2s 81us/step - loss: 0.3003 - accuracy: 0.8568\n",
      "Epoch 97/150\n",
      "23043/23043 [==============================] - 2s 81us/step - loss: 0.3000 - accuracy: 0.8574\n",
      "Epoch 98/150\n",
      "23043/23043 [==============================] - 2s 82us/step - loss: 0.3010 - accuracy: 0.8575\n",
      "Epoch 99/150\n",
      "23043/23043 [==============================] - 2s 82us/step - loss: 0.3006 - accuracy: 0.8566\n",
      "Epoch 100/150\n",
      "23043/23043 [==============================] - 2s 82us/step - loss: 0.3003 - accuracy: 0.8562\n",
      "Epoch 101/150\n",
      "23043/23043 [==============================] - 2s 82us/step - loss: 0.3009 - accuracy: 0.8561\n",
      "Epoch 102/150\n",
      "23043/23043 [==============================] - 2s 82us/step - loss: 0.2995 - accuracy: 0.8568\n",
      "Epoch 103/150\n",
      "23043/23043 [==============================] - 2s 76us/step - loss: 0.3007 - accuracy: 0.8550\n",
      "Epoch 104/150\n",
      "23043/23043 [==============================] - 2s 78us/step - loss: 0.2992 - accuracy: 0.8567\n",
      "Epoch 105/150\n",
      "23043/23043 [==============================] - 2s 80us/step - loss: 0.2998 - accuracy: 0.8566\n",
      "Epoch 106/150\n",
      "23043/23043 [==============================] - 2s 81us/step - loss: 0.2995 - accuracy: 0.8568\n",
      "Epoch 107/150\n",
      "23043/23043 [==============================] - 2s 81us/step - loss: 0.2996 - accuracy: 0.8566\n",
      "Epoch 108/150\n",
      "23043/23043 [==============================] - 2s 81us/step - loss: 0.2982 - accuracy: 0.8584\n",
      "Epoch 109/150\n",
      "23043/23043 [==============================] - 2s 81us/step - loss: 0.2992 - accuracy: 0.8579\n",
      "Epoch 110/150\n",
      "23043/23043 [==============================] - 2s 81us/step - loss: 0.2997 - accuracy: 0.8567\n",
      "Epoch 111/150\n",
      "23043/23043 [==============================] - 2s 79us/step - loss: 0.2994 - accuracy: 0.8577\n",
      "Epoch 112/150\n",
      "23043/23043 [==============================] - 2s 77us/step - loss: 0.2993 - accuracy: 0.8568\n",
      "Epoch 113/150\n",
      "23043/23043 [==============================] - 2s 82us/step - loss: 0.2979 - accuracy: 0.8577\n",
      "Epoch 114/150\n",
      "23043/23043 [==============================] - 2s 81us/step - loss: 0.2992 - accuracy: 0.8575\n",
      "Epoch 115/150\n",
      "23043/23043 [==============================] - 2s 81us/step - loss: 0.2985 - accuracy: 0.8578\n",
      "Epoch 116/150\n",
      "23043/23043 [==============================] - 2s 81us/step - loss: 0.2984 - accuracy: 0.8572\n",
      "Epoch 117/150\n",
      "23043/23043 [==============================] - 2s 81us/step - loss: 0.2990 - accuracy: 0.8575\n",
      "Epoch 118/150\n",
      "23043/23043 [==============================] - 2s 81us/step - loss: 0.2986 - accuracy: 0.8570\n",
      "Epoch 119/150\n",
      "23043/23043 [==============================] - 2s 81us/step - loss: 0.2983 - accuracy: 0.8573\n",
      "Epoch 120/150\n",
      "23043/23043 [==============================] - 2s 78us/step - loss: 0.2981 - accuracy: 0.8569\n",
      "Epoch 121/150\n",
      "23043/23043 [==============================] - 2s 80us/step - loss: 0.2985 - accuracy: 0.8571 0s - loss: 0.2979 - accuracy\n",
      "Epoch 122/150\n",
      "23043/23043 [==============================] - 2s 81us/step - loss: 0.2977 - accuracy: 0.8570\n",
      "Epoch 123/150\n",
      "23043/23043 [==============================] - 2s 81us/step - loss: 0.2974 - accuracy: 0.8578\n",
      "Epoch 124/150\n",
      "23043/23043 [==============================] - 2s 81us/step - loss: 0.2986 - accuracy: 0.8577\n",
      "Epoch 125/150\n",
      "23043/23043 [==============================] - 2s 81us/step - loss: 0.2980 - accuracy: 0.8572\n",
      "Epoch 126/150\n",
      "23043/23043 [==============================] - 2s 81us/step - loss: 0.2979 - accuracy: 0.8577\n",
      "Epoch 127/150\n",
      "23043/23043 [==============================] - 2s 81us/step - loss: 0.2974 - accuracy: 0.8577\n",
      "Epoch 128/150\n",
      "23043/23043 [==============================] - 2s 81us/step - loss: 0.2972 - accuracy: 0.8580\n",
      "Epoch 129/150\n",
      "23043/23043 [==============================] - 2s 76us/step - loss: 0.2977 - accuracy: 0.8569\n",
      "Epoch 130/150\n",
      "23043/23043 [==============================] - 2s 79us/step - loss: 0.2982 - accuracy: 0.8564\n",
      "Epoch 131/150\n",
      "23043/23043 [==============================] - 2s 81us/step - loss: 0.2977 - accuracy: 0.8578\n",
      "Epoch 132/150\n",
      "23043/23043 [==============================] - 2s 79us/step - loss: 0.2972 - accuracy: 0.8565\n",
      "Epoch 133/150\n",
      "23043/23043 [==============================] - 2s 79us/step - loss: 0.2971 - accuracy: 0.8571\n",
      "Epoch 134/150\n",
      "23043/23043 [==============================] - 2s 81us/step - loss: 0.2964 - accuracy: 0.8583\n",
      "Epoch 135/150\n",
      "23043/23043 [==============================] - 2s 80us/step - loss: 0.2969 - accuracy: 0.8582\n",
      "Epoch 136/150\n",
      "23043/23043 [==============================] - 2s 80us/step - loss: 0.2971 - accuracy: 0.8574\n",
      "Epoch 137/150\n",
      "23043/23043 [==============================] - 2s 79us/step - loss: 0.2963 - accuracy: 0.8576\n",
      "Epoch 138/150\n",
      "23043/23043 [==============================] - 2s 78us/step - loss: 0.2959 - accuracy: 0.8583\n",
      "Epoch 139/150\n",
      "23043/23043 [==============================] - 2s 80us/step - loss: 0.2968 - accuracy: 0.8579\n",
      "Epoch 140/150\n",
      "23043/23043 [==============================] - 2s 81us/step - loss: 0.2974 - accuracy: 0.8569\n",
      "Epoch 141/150\n",
      "23043/23043 [==============================] - 2s 81us/step - loss: 0.2968 - accuracy: 0.8580\n",
      "Epoch 142/150\n",
      "23043/23043 [==============================] - 2s 79us/step - loss: 0.2965 - accuracy: 0.8581\n",
      "Epoch 143/150\n",
      "23043/23043 [==============================] - 2s 81us/step - loss: 0.2961 - accuracy: 0.8578\n",
      "Epoch 144/150\n",
      "23043/23043 [==============================] - 2s 81us/step - loss: 0.2965 - accuracy: 0.8578\n",
      "Epoch 145/150\n",
      "23043/23043 [==============================] - 2s 80us/step - loss: 0.2968 - accuracy: 0.8567\n",
      "Epoch 146/150\n",
      "23043/23043 [==============================] - 2s 77us/step - loss: 0.2957 - accuracy: 0.8586\n",
      "Epoch 147/150\n",
      "23043/23043 [==============================] - 2s 78us/step - loss: 0.2966 - accuracy: 0.8574\n",
      "Epoch 148/150\n",
      "23043/23043 [==============================] - 2s 80us/step - loss: 0.2966 - accuracy: 0.8570\n",
      "Epoch 149/150\n",
      "23043/23043 [==============================] - 2s 81us/step - loss: 0.2960 - accuracy: 0.8582\n",
      "Epoch 150/150\n",
      "23043/23043 [==============================] - 2s 81us/step - loss: 0.2960 - accuracy: 0.8564\n"
     ]
    },
    {
     "data": {
      "text/plain": [
       "<keras.callbacks.callbacks.History at 0x2358d0fbdc8>"
      ]
     },
     "execution_count": 76,
     "metadata": {},
     "output_type": "execute_result"
    }
   ],
   "source": [
    "# Fit the model\n",
    "model.fit(X_train, y_train, epochs=150, batch_size=10)"
   ]
  },
  {
   "cell_type": "markdown",
   "metadata": {},
   "source": [
    "model is fit using epochs of 150 which gives the number od iterations on batches with size of 10"
   ]
  },
  {
   "cell_type": "code",
   "execution_count": 77,
   "metadata": {},
   "outputs": [
    {
     "name": "stdout",
     "output_type": "stream",
     "text": [
      "7682/7682 [==============================] - 0s 13us/step\n",
      "\n",
      "accuracy: 84.68%\n"
     ]
    }
   ],
   "source": [
    "# evaluate the model\n",
    "scores = model.evaluate(X_test, y_test)\n",
    "print(\"\\n%s: %.2f%%\" % (model.metrics_names[1], scores[1]*100))"
   ]
  },
  {
   "cell_type": "markdown",
   "metadata": {},
   "source": [
    "The accuracy of our perceptron has increased using the above model criteria than most of the regular machine learning models"
   ]
  }
 ],
 "metadata": {
  "kernelspec": {
   "display_name": "Python 3",
   "language": "python",
   "name": "python3"
  },
  "language_info": {
   "codemirror_mode": {
    "name": "ipython",
    "version": 3
   },
   "file_extension": ".py",
   "mimetype": "text/x-python",
   "name": "python",
   "nbconvert_exporter": "python",
   "pygments_lexer": "ipython3",
   "version": "3.7.4"
  }
 },
 "nbformat": 4,
 "nbformat_minor": 2
}
